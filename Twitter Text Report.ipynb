{
 "cells": [
  {
   "cell_type": "markdown",
   "id": "7d986178",
   "metadata": {},
   "source": [
    "# <span style= \"font-family:Optima\">Rise of the Knights: The Twitter Text Report</span>\n",
    "\n",
    "<span style =\"font-family:Optima\"><font color='goldenrod'>**Andrew Gudz**</font></span>\n",
    "\n",
    "<span style =\"font-family:Optima\">10/25/22</span>\n"
   ]
  },
  {
   "cell_type": "markdown",
   "id": "51dac640",
   "metadata": {},
   "source": [
    "### <span style =\"font-family:Optima\"><font color='goldenrod'>**Intro**</font></span>\n",
    "<span style =\"font-family:Optima\">Because of great technological advances, data has become a common part of everyday life. With so many sources of data, its hard for a user to know if the data they are engaging with is reliable. Companies are trying to combat this issue by allowing their data to be more open to the public through the use of API systems. Twitter is an example of a company being more open to sharing its data. For this report, I've decided to check the twitter activity for the recent video game release of _Gotham Knights_: a game where the player plays as one of Batman's sidekicks to uncover the truth of his mysterious death. Despite being newly released, I've rarely heard any word about the game and wanted to see if there was any user action with _Gotham Knights_. Specifically to see the amount of retweets, likes, quotes, and replies on a tweet.</span>"
   ]
  },
  {
   "cell_type": "code",
   "execution_count": 317,
   "id": "488c11a0",
   "metadata": {},
   "outputs": [],
   "source": [
    "import pandas as pd\n",
    "import json\n",
    "import requests\n",
    "import urllib"
   ]
  },
  {
   "cell_type": "code",
   "execution_count": 318,
   "id": "c40d1546",
   "metadata": {
    "scrolled": false
   },
   "outputs": [
    {
     "name": "stderr",
     "output_type": "stream",
     "text": [
      "/var/folders/9y/clkd290s71dc7hm_x9xszjj00000gn/T/ipykernel_1609/1083989412.py:1: ParserWarning: Falling back to the 'python' engine because the 'c' engine does not support regex separators (separators > 1 char and different from '\\s+' are interpreted as regex); you can avoid this warning by specifying engine='python'.\n",
      "  bearer_token = pd.read_csv(\"Twitter_Token.txt\", header = 0, sep = '/t')\n"
     ]
    }
   ],
   "source": [
    "bearer_token = pd.read_csv(\"Twitter_Token.txt\", header = 0, sep = '/t')"
   ]
  },
  {
   "cell_type": "code",
   "execution_count": 319,
   "id": "1a0cbcab",
   "metadata": {},
   "outputs": [],
   "source": [
    "endpoint = 'https://api.twitter.com/2/tweets/search/recent'\n",
    "bt = pd.read_csv('Twitter_Token.txt', header = 0)"
   ]
  },
  {
   "cell_type": "code",
   "execution_count": 320,
   "id": "a4728af9",
   "metadata": {},
   "outputs": [],
   "source": [
    "header = {'Authorization':'Bearer {}'.format(bearer_token['Bearer_Token'].iloc[0])}"
   ]
  },
  {
   "cell_type": "markdown",
   "id": "36c51466",
   "metadata": {},
   "source": [
    "<span style =\"font-family:Optima\">To get the data from Twitter, the first step is to assign a few variables to get access to the API system. The first three variables that need to be created are bearer_token, endpoint, and header. The bearer_token acts as a password of sorts that allows access to the Twitter API system. The endpoint acts as a set of commands that allows us to obtain certain aspects from tweets. And the header variable acts as extra data (also called meta data) from any API command made. With these variables set, specific tweets can now be searched.</span>"
   ]
  },
  {
   "cell_type": "code",
   "execution_count": 321,
   "id": "a08485c0",
   "metadata": {},
   "outputs": [],
   "source": [
    "query_text = '(Gotham Knights OR (WB Games Montréal)) (Batman OR Bruce Wayne OR Nightwing OR Dick Grayson OR Batgirl OR Oracle OR Barbara Gordon OR Red Hood OR Jason Todd OR Robin OR Tim Drake OR Playstation 5 OR PS5 OR Xbox Series X OR Xbox Series X/S) lang:en -is:retweet' \n",
    "query_encoded = urllib.parse.quote(query_text)\n",
    "user_fields = 'username'\n",
    "tweet_fields = 'lang,public_metrics,author_id,created_at'"
   ]
  },
  {
   "cell_type": "markdown",
   "id": "9b5e47b6",
   "metadata": {},
   "source": [
    "<span style =\"font-family:Optima\">Now tweets associated with _Gotham Knights_ can be requested. By typing in keywords (also called a query!) in the query_text command, certain tweets in the API system are found. For this query I added the name of the game, the game company, Batman and his companions, and consoles the game can be played on. By using OR and (), the tweet search has a more specific search category. The query is further specified with the lang command; meaning that tweets in English will be the only ones requested. The tweet_fields variable requests what aspect of a tweet that I want. In this instance I wanted the language (lang), public_metrics (actions made on a tweet), the author (author_id), and created_at (at what time was the tweet created). The username of each tweet was also requested using user_fields.</span>"
   ]
  },
  {
   "cell_type": "code",
   "execution_count": 322,
   "id": "07f3b61e",
   "metadata": {
    "scrolled": true
   },
   "outputs": [],
   "source": [
    "query_url = endpoint + '?query={}&tweet.fields={}&max_results=100'.format(query_encoded,tweet_fields) "
   ]
  },
  {
   "cell_type": "code",
   "execution_count": 323,
   "id": "12ef8b00",
   "metadata": {
    "scrolled": true
   },
   "outputs": [],
   "source": [
    "response = requests.get(query_url, headers = header)"
   ]
  },
  {
   "cell_type": "markdown",
   "id": "3b89cdb3",
   "metadata": {},
   "source": [
    "<span style =\"font-family:Optima\">I can now put in my request to the Twitter API system. Through the creation of the query_url variable, it combines the previous variables (query_text, query_encoded, user_fields, and tweet_fields) along with the endpoint to make a request to the system. And through the get command in the newly created response variable, I'm now able to get the specific data.</span>"
   ]
  },
  {
   "cell_type": "code",
   "execution_count": 324,
   "id": "1a9ec39e",
   "metadata": {
    "scrolled": true
   },
   "outputs": [
    {
     "data": {
      "text/plain": [
       "200"
      ]
     },
     "execution_count": 324,
     "metadata": {},
     "output_type": "execute_result"
    }
   ],
   "source": [
    "response.status_code"
   ]
  },
  {
   "cell_type": "code",
   "execution_count": 325,
   "id": "c3d4574c",
   "metadata": {
    "scrolled": false
   },
   "outputs": [
    {
     "data": {
      "text/plain": [
       "'{\"data\":[{\"public_metrics\":{\"retweet_count\":0,\"reply_count\":0,\"like_count\":0,\"quote_count\":0},\"author_id\":\"1194477339452858368\",\"id\":\"1585019041970016256\",\"lang\":\"en\",\"created_at\":\"2022-10-25T21:22:42.000Z\",\"edit_history_tweet_ids\":[\"1585019041970016256\"],\"text\":\"Look like ill be starting Gotham Knights as Nightwing Today\"},{\"public_metrics\":{\"retweet_count\":0,\"reply_count\":0,\"like_count\":1,\"quote_count\":0},\"author_id\":\"156309286\",\"id\":\"1585019000828100609\",\"lang\":\"en\",\"created_at\":\"2022-10-25T21:22:32.000Z\",\"edit_history_tweet_ids\":[\"1585019000828100609\"],\"text\":\"Gotham Knights really makes you FEEL like you\\'re not good enough to be Batman.\"},{\"public_metrics\":{\"retweet_count\":0,\"reply_count\":0,\"like_count\":1,\"quote_count\":0},\"author_id\":\"1155613652566720512\",\"id\":\"1585018546584780801\",\"lang\":\"en\",\"created_at\":\"2022-10-25T21:20:44.000Z\",\"edit_history_tweet_ids\":[\"1585018546584780801\"],\"text\":\"GOTHAM KNIGHTS Walkthrough Gameplay Part 4 - BATGIRL! [PC] https://t.co/iDNZwOhyJc\"},{\"public_metrics\":{\"retweet_count\":0,\"reply_count\":1,\"like_count\":0,\"quote_count\":0},\"author_id\":\"1388118760771526656\",\"id\":\"1585017811755499521\",\"lang\":\"en\",\"created_at\":\"2022-10-25T21:17:49.000Z\",\"edit_history_tweet_ids\":[\"1585017811755499521\"],\"text\":\"Jason\\'s default attire/New Guard suit in Gotham Knights and his huge size looks to be inspired from comic issue Batman And Robin #3. Nightwing also looks pretty beefy in this (he\\'s the one pushing him back). Don\\'t mind Tim and Cass. https://t.co/kICIaghe7w\"},{\"public_metrics\":{\"retweet_count\":0,\"reply_count\":0,\"like_count\":0,\"quote_count\":0},\"author_id\":\"2816453508\",\"id\":\"1585017275815694336\",\"lang\":\"en\",\"created_at\":\"2022-10-25T21:15:41.000Z\",\"edit_history_tweet_ids\":[\"1585017275815694336\"],\"text\":\"Playing as Nightwing in Gotham Knights!! \\\\n#Nightwing #Gotham #Knights #GothamKnightsgameplay\\\\n#gaming #GamingPC \\\\nhttps://t.co/rwDpI7Pvb2 via @YouTube\"},{\"public_metrics\":{\"retweet_count\":0,\"reply_count\":0,\"like_count\":0,\"quote_count\":0},\"author_id\":\"1433789706211315712\",\"id\":\"1585017245352497153\",\"lang\":\"en\",\"created_at\":\"2022-10-25T21:15:34.000Z\",\"edit_history_tweet_ids\":[\"1585017245352497153\"],\"text\":\"#Games #Batman #Exclusive #Gothamknights #VideoGameNews Exclusive Gotham Knights: The Official Collector’s Compendium Excerpts Feature Gorgeous Art https://t.co/fkYObn0vvM\"},{\"public_metrics\":{\"retweet_count\":0,\"reply_count\":0,\"like_count\":0,\"quote_count\":0},\"author_id\":\"891993331391221764\",\"id\":\"1585016928795774976\",\"lang\":\"en\",\"created_at\":\"2022-10-25T21:14:18.000Z\",\"edit_history_tweet_ids\":[\"1585016928795774976\"],\"text\":\"@HollowPoiint when you next play Gotham Knights can you please time your attacks it makes the combat faster and more fluid and you get some different animations and for red hood if you time his gun attacks he does devastating damage\"},{\"public_metrics\":{\"retweet_count\":0,\"reply_count\":1,\"like_count\":0,\"quote_count\":0},\"author_id\":\"1388118760771526656\",\"id\":\"1585016445204733952\",\"lang\":\"en\",\"created_at\":\"2022-10-25T21:12:23.000Z\",\"edit_history_tweet_ids\":[\"1585016445204733952\"],\"text\":\"\\\\\"Gotham Knights got Red Hood wrong, he\\'s too big, inaccurate, he looks old, same as Bruce, mature, not boyish enough, Raphael, hair too short.\\\\\" Nope. DC stats say otherwise &amp; @GothamKnights did their research. A thread on Jason\\'s comic designs. #gothamknights #redhood https://t.co/1V6FTTA5Y9\"},{\"public_metrics\":{\"retweet_count\":0,\"reply_count\":1,\"like_count\":0,\"quote_count\":0},\"author_id\":\"1343568614138535936\",\"id\":\"1585015935986847744\",\"lang\":\"en\",\"created_at\":\"2022-10-25T21:10:21.000Z\",\"edit_history_tweet_ids\":[\"1585015935986847744\"],\"text\":\"@WBGamesSupport am a member of the DC infinite I reader Batman Gotham knights gilded city when am I getting the code\"},{\"public_metrics\":{\"retweet_count\":0,\"reply_count\":1,\"like_count\":0,\"quote_count\":0},\"author_id\":\"885272095164317697\",\"id\":\"1585015560064348160\",\"lang\":\"en\",\"created_at\":\"2022-10-25T21:08:52.000Z\",\"edit_history_tweet_ids\":[\"1585015560064348160\"],\"text\":\"https://t.co/NKB4JDIhcF\\\\n\\\\nalright so heres what i think happened with gotham knights. wb montreal\\'s only other game was batman arkham origins and the wii u arkham city (ignore the lego game)\\\\n\\\\nbut the focus is arkham origins. arkham origins was made to be a filler type game-\"},{\"public_metrics\":{\"retweet_count\":0,\"reply_count\":0,\"like_count\":0,\"quote_count\":0},\"author_id\":\"1128289556539871232\",\"id\":\"1585014955627380736\",\"lang\":\"en\",\"created_at\":\"2022-10-25T21:06:28.000Z\",\"edit_history_tweet_ids\":[\"1585014955627380736\"],\"text\":\"@Nerdagon @plushiesmuuush @GothamKnights It was so fun to watch Nightwing as- um gotham knights gameplay❤❤❤☺️☺️\"},{\"public_metrics\":{\"retweet_count\":0,\"reply_count\":0,\"like_count\":0,\"quote_count\":0},\"author_id\":\"1384721427518173186\",\"id\":\"1585014030573633537\",\"lang\":\"en\",\"created_at\":\"2022-10-25T21:02:47.000Z\",\"edit_history_tweet_ids\":[\"1585014030573633537\"],\"text\":\"Oh and I almost forgot FortniteGames put Gotham Knights including the leader of the Teen Titans and Batmans sidekick Robin\"},{\"public_metrics\":{\"retweet_count\":0,\"reply_count\":0,\"like_count\":0,\"quote_count\":0},\"author_id\":\"1481029156792066049\",\"id\":\"1585014010306502669\",\"lang\":\"en\",\"created_at\":\"2022-10-25T21:02:42.000Z\",\"edit_history_tweet_ids\":[\"1585014010306502669\"],\"text\":\"Restock Drop Alert! \\\\n\\\\nGotham Knights Collector’s Edition – PlayStation 5#Amazon #ad \\\\uD83E\\\\uDD16 \\\\uD83D\\\\uDC47\\\\uD83C\\\\uDFFC\\\\n\\\\n•Fast + Automated GPU PS5 XSX Drops! Don\\'t miss it. ✨ https://t.co/TsMG6tEUeS\"},{\"public_metrics\":{\"retweet_count\":1,\"reply_count\":0,\"like_count\":0,\"quote_count\":0},\"author_id\":\"1412398363417452544\",\"id\":\"1585013986248073218\",\"lang\":\"en\",\"created_at\":\"2022-10-25T21:02:37.000Z\",\"edit_history_tweet_ids\":[\"1585013986248073218\"],\"text\":\"Amazon [$299.99]: Gotham Knights Collector’s Edition – PlayStation 5\\\\n\\\\n\\\\uD83D\\\\uDECD https://t.co/BKFhTVFxB5\\\\n\\\\uD83D\\\\uDED2 https://t.co/ZVFiNCpf7P\\\\n\\\\n(try \\\\uD83D\\\\uDECD link first)\\\\n\\\\n⏰ 16:02 #ad https://t.co/RcsS1Bn2Oz\"},{\"public_metrics\":{\"retweet_count\":0,\"reply_count\":0,\"like_count\":0,\"quote_count\":0},\"author_id\":\"344036392\",\"id\":\"1585013358826123266\",\"lang\":\"en\",\"created_at\":\"2022-10-25T21:00:07.000Z\",\"edit_history_tweet_ids\":[\"1585013358826123266\"],\"text\":\"Ninguem gostou desse uniforme do robin do gotham knights kkkkkkkkk\"},{\"public_metrics\":{\"retweet_count\":0,\"reply_count\":1,\"like_count\":4,\"quote_count\":0},\"author_id\":\"3174095517\",\"id\":\"1585011973531783168\",\"lang\":\"en\",\"created_at\":\"2022-10-25T20:54:37.000Z\",\"edit_history_tweet_ids\":[\"1585011973531783168\"],\"text\":\"Gotham Knights should\\'ve just been a Red Hood game tbh\"},{\"public_metrics\":{\"retweet_count\":0,\"reply_count\":0,\"like_count\":1,\"quote_count\":0},\"author_id\":\"3397133712\",\"id\":\"1585011864781860864\",\"lang\":\"en\",\"created_at\":\"2022-10-25T20:54:11.000Z\",\"edit_history_tweet_ids\":[\"1585011864781860864\"],\"text\":\"Check Out My New Video! Drop A Like Please!\\\\nGotham Knights PS5 Playthrough | Part 2 - Kirk Langstrom \\\\n\\\\nhttps://t.co/S5bnWwScD2 \\\\n\\\\n#gothamknights #youtube #youtubegaming #YouTuber #gotham https://t.co/Ibprb2yjov\"},{\"public_metrics\":{\"retweet_count\":0,\"reply_count\":0,\"like_count\":0,\"quote_count\":0},\"author_id\":\"2786829138\",\"id\":\"1585011527484321793\",\"lang\":\"en\",\"created_at\":\"2022-10-25T20:52:50.000Z\",\"edit_history_tweet_ids\":[\"1585011527484321793\"],\"text\":\"Batman Dies!!!! Gotham Knights pt.1 playthrough https://t.co/po3PVTSRpd via @YouTube Time for some Vengeance \\\\uD83D\\\\uDE08\\\\uD83D\\\\uDE0E tune in and enjoy\"},{\"public_metrics\":{\"retweet_count\":0,\"reply_count\":0,\"like_count\":0,\"quote_count\":0},\"author_id\":\"1581758594747289600\",\"id\":\"1585011475407859712\",\"lang\":\"en\",\"created_at\":\"2022-10-25T20:52:38.000Z\",\"edit_history_tweet_ids\":[\"1585011475407859712\"],\"text\":\"\\\\uD83E\\\\uDD87 #Batgirl from Gotham Knights\\\\n#GothamKnights #dc #VirtualPhotography https://t.co/XMhKrRN36a\"},{\"public_metrics\":{\"retweet_count\":0,\"reply_count\":0,\"like_count\":0,\"quote_count\":0},\"author_id\":\"1049397331400040448\",\"id\":\"1585011111543607296\",\"lang\":\"en\",\"created_at\":\"2022-10-25T20:51:11.000Z\",\"edit_history_tweet_ids\":[\"1585011111543607296\"],\"text\":\"@Starfmodel hey if you haven’t already you should checkout the new Gotham Knights game you would do an absolutely amazing cosplay of Batgirl red hair and all love. \\\\uD83E\\\\uDD18\\\\uD83D\\\\uDE0D♥️\"},{\"public_metrics\":{\"retweet_count\":0,\"reply_count\":1,\"like_count\":2,\"quote_count\":0},\"author_id\":\"3197871781\",\"id\":\"1585010017753001984\",\"lang\":\"en\",\"created_at\":\"2022-10-25T20:46:50.000Z\",\"edit_history_tweet_ids\":[\"1585010017753001984\"],\"text\":\"i probably wont pick up gotham knights but i do enjoy seeing nightwing and his thicc booty from other ppls gameplays. plus his voice is nice \\\\uD83D\\\\uDE02\"},{\"public_metrics\":{\"retweet_count\":0,\"reply_count\":0,\"like_count\":0,\"quote_count\":0},\"author_id\":\"1583200959894851585\",\"id\":\"1585009553313349633\",\"lang\":\"en\",\"created_at\":\"2022-10-25T20:45:00.000Z\",\"edit_history_tweet_ids\":[\"1585009553313349633\"],\"text\":\"Debating whether to purchase Gotham Knights? We\\'ve rounded up some reviews from critics to help you make up your mind. \\\\n\\\\n#GothamKnights #RedHood #Nightwing #Batgirl #Robin\\\\nhttps://t.co/mOqF07Dyzv\"},{\"public_metrics\":{\"retweet_count\":0,\"reply_count\":0,\"like_count\":0,\"quote_count\":0},\"author_id\":\"1079911684884459520\",\"id\":\"1585009220189294598\",\"lang\":\"en\",\"created_at\":\"2022-10-25T20:43:40.000Z\",\"edit_history_tweet_ids\":[\"1585009220189294598\"],\"text\":\"guess this is a hot take: i really like gotham knights\\\\ndont get me wrong, arkham knight is still the best batman game of all time\\\\nbut gotham knights is fun. the story is eh but its a good game\"},{\"public_metrics\":{\"retweet_count\":0,\"reply_count\":0,\"like_count\":0,\"quote_count\":0},\"author_id\":\"323307009\",\"id\":\"1585009099749855233\",\"lang\":\"en\",\"created_at\":\"2022-10-25T20:43:12.000Z\",\"edit_history_tweet_ids\":[\"1585009099749855233\"],\"text\":\"I don\\'t know if it\\'s Gotham Knights or my Xbox Series X controller, but when I play the face buttons just stop working sometimes. I can move, adjust the camera, and use the triggers, but I have to turn off the controller to get the face buttons back.\"},{\"public_metrics\":{\"retweet_count\":0,\"reply_count\":0,\"like_count\":0,\"quote_count\":0},\"author_id\":\"1447842298046337024\",\"id\":\"1585007251814653952\",\"lang\":\"en\",\"created_at\":\"2022-10-25T20:35:51.000Z\",\"edit_history_tweet_ids\":[\"1585007251814653952\"],\"text\":\"Gotham Knights’ Cops Are The Only Enemies That Don’t Give XP  https://t.co/0Qwc8XAwd0\"},{\"public_metrics\":{\"retweet_count\":0,\"reply_count\":0,\"like_count\":0,\"quote_count\":0},\"author_id\":\"249959085\",\"id\":\"1585007071971328000\",\"lang\":\"en\",\"created_at\":\"2022-10-25T20:35:08.000Z\",\"edit_history_tweet_ids\":[\"1585007071971328000\"],\"text\":\"So I really want Gotham Knights (yes because Batgirl and Harley Quinn are in it) but it\\'s $70 and I only have half of that. Why is the world so cruel? lol\\\\n\\\\nAnyway what y\\'all doing\"},{\"public_metrics\":{\"retweet_count\":1,\"reply_count\":0,\"like_count\":8,\"quote_count\":0},\"author_id\":\"1099257670148808704\",\"id\":\"1585006665484865536\",\"lang\":\"en\",\"created_at\":\"2022-10-25T20:33:31.000Z\",\"edit_history_tweet_ids\":[\"1585006665484865536\"],\"text\":\"Tim Drake looks so lame in Gotham Knights lol, I wanna stuff him in the locker\"},{\"public_metrics\":{\"retweet_count\":1,\"reply_count\":3,\"like_count\":22,\"quote_count\":0},\"author_id\":\"790055478667673600\",\"id\":\"1585005979594551296\",\"lang\":\"en\",\"created_at\":\"2022-10-25T20:30:48.000Z\",\"edit_history_tweet_ids\":[\"1585005979594551296\"],\"text\":\"To my followers and friends who have Gotham Knights, how is the photo mode? If it\\'s good, I\\'ll be posting a lot of Nightwing screenshots when I eventually get a new console and the game.\"},{\"public_metrics\":{\"retweet_count\":0,\"reply_count\":1,\"like_count\":1,\"quote_count\":0},\"author_id\":\"3405691624\",\"id\":\"1585005835356626945\",\"lang\":\"en\",\"created_at\":\"2022-10-25T20:30:13.000Z\",\"edit_history_tweet_ids\":[\"1585005835356626945\"],\"text\":\"@AcidOverrideOG @GothamKnights last of us 2 and ratchet and clank rift apart can hit 60FPS (ratchet can with raytracing) and gotham knights gets 42FPS on an RTX 4090 and 30fps on a PS5/Xbox\\\\nthese devs are wild\"},{\"public_metrics\":{\"retweet_count\":0,\"reply_count\":0,\"like_count\":0,\"quote_count\":0},\"author_id\":\"1481416749543268355\",\"id\":\"1585005779920232449\",\"lang\":\"en\",\"created_at\":\"2022-10-25T20:30:00.000Z\",\"edit_history_tweet_ids\":[\"1585005779920232449\"],\"text\":\"ALFRED AND HIS BAT-FAM!! AoG is so excited to be bringing you a playthrough of Gotham Knights!! David and Garrett are tackling this game.\\\\n\\\\n#GothamKnights #GothamKnights PC #GothamKnights batgirl #Batman #NewReleases \\\\n\\\\nhttps://t.co/8SSTjs3SZD https://t.co/YziaeEcPoM\"},{\"public_metrics\":{\"retweet_count\":0,\"reply_count\":0,\"like_count\":0,\"quote_count\":0},\"author_id\":\"1319884164989177857\",\"id\":\"1585005674299555840\",\"lang\":\"en\",\"created_at\":\"2022-10-25T20:29:35.000Z\",\"edit_history_tweet_ids\":[\"1585005674299555840\"],\"text\":\"i need someone to play co op gotham knights with (PS5) \\\\uD83D\\\\uDE14\"},{\"public_metrics\":{\"retweet_count\":2,\"reply_count\":5,\"like_count\":26,\"quote_count\":4},\"author_id\":\"11928542\",\"id\":\"1585005595521957889\",\"lang\":\"en\",\"created_at\":\"2022-10-25T20:29:16.000Z\",\"edit_history_tweet_ids\":[\"1585005595521957889\"],\"text\":\"Gotham Knights’ cops are the only enemies that don’t give XP: https://t.co/hTfiOyyNSC https://t.co/qyfi8r3xfs\"},{\"public_metrics\":{\"retweet_count\":0,\"reply_count\":0,\"like_count\":0,\"quote_count\":0},\"author_id\":\"725778781185662978\",\"id\":\"1585005388507713536\",\"lang\":\"en\",\"created_at\":\"2022-10-25T20:28:27.000Z\",\"edit_history_tweet_ids\":[\"1585005388507713536\"],\"text\":\"Red Hood | Gotham Knights (Part 1) | TPAG \\\\n#Batman #GothamKnights \\\\nhttps://t.co/DNuS5euXff\"},{\"public_metrics\":{\"retweet_count\":0,\"reply_count\":0,\"like_count\":0,\"quote_count\":0},\"author_id\":\"1622386489\",\"id\":\"1585004968267874304\",\"lang\":\"en\",\"created_at\":\"2022-10-25T20:26:47.000Z\",\"edit_history_tweet_ids\":[\"1585004968267874304\"],\"text\":\"Sasuke played Gotham Knights (PS5) and Overwatch 2 (PS5) in the last 24 hours https://t.co/lR9z1YnJwx #exophase\"},{\"public_metrics\":{\"retweet_count\":0,\"reply_count\":0,\"like_count\":0,\"quote_count\":0},\"author_id\":\"2556205344\",\"id\":\"1585004427194535936\",\"lang\":\"en\",\"created_at\":\"2022-10-25T20:24:38.000Z\",\"edit_history_tweet_ids\":[\"1585004427194535936\"],\"text\":\"You know despite being Dead, Bruce/Batman in Gotham Knights has a better relationship and better character moments with the Bat Family than Arkham Batman does https://t.co/ACbCDgKToj\"},{\"public_metrics\":{\"retweet_count\":0,\"reply_count\":1,\"like_count\":1,\"quote_count\":0},\"author_id\":\"3297257572\",\"id\":\"1585004166455341056\",\"lang\":\"en\",\"created_at\":\"2022-10-25T20:23:35.000Z\",\"edit_history_tweet_ids\":[\"1585004166455341056\"],\"text\":\"Gotham Knights Walkthrough Part 1 | 10 OUT OF 10 https://t.co/NpvbXvGd4I via @YouTube #GothamKnights #Batman #Superman #DCU #BlackAdamMovie #Nightwing #YouTube #youtubeshorts #YouTuber\"},{\"public_metrics\":{\"retweet_count\":0,\"reply_count\":0,\"like_count\":0,\"quote_count\":0},\"author_id\":\"1223748197828317184\",\"id\":\"1585004084184363008\",\"lang\":\"en\",\"created_at\":\"2022-10-25T20:23:16.000Z\",\"edit_history_tweet_ids\":[\"1585004084184363008\"],\"text\":\"those bruce wayne audio tapes in gotham knights got me feelin sad\"},{\"public_metrics\":{\"retweet_count\":0,\"reply_count\":0,\"like_count\":0,\"quote_count\":0},\"author_id\":\"1379813078930497536\",\"id\":\"1585003692239261699\",\"lang\":\"en\",\"created_at\":\"2022-10-25T20:21:42.000Z\",\"edit_history_tweet_ids\":[\"1585003692239261699\"],\"text\":\"Gotham Knights - Red hood, More Powerful Than a Locomotive! #shorts https://t.co/5dZ6304TNh via @YouTube\"},{\"public_metrics\":{\"retweet_count\":0,\"reply_count\":0,\"like_count\":0,\"quote_count\":0},\"author_id\":\"1200330399102197761\",\"id\":\"1585002339466809345\",\"lang\":\"en\",\"created_at\":\"2022-10-25T20:16:20.000Z\",\"edit_history_tweet_ids\":[\"1585002339466809345\"],\"text\":\"Gotham Knights’ Cops Are The Only Enemies That Don’t Give XP\\\\nhttps://t.co/ZzfX9I385U\\\\nWith Gotham Knights being an open-world action RPG where you level up by beating the crap out of goons doing crimes, you’d imagine that everyone’s fair game. If you demol https://t.co/Hf9ln0HF51\"},{\"public_metrics\":{\"retweet_count\":0,\"reply_count\":0,\"like_count\":0,\"quote_count\":0},\"author_id\":\"1214653927049879553\",\"id\":\"1585001939695124481\",\"lang\":\"en\",\"created_at\":\"2022-10-25T20:14:44.000Z\",\"edit_history_tweet_ids\":[\"1585001939695124481\"],\"text\":\"@StarboyHsp Don\\'t think there\\'s much of batman in it \\\\uD83E\\\\uDD74. But once you\\'ve had a play leave some feedback on my website below:\\\\n\\\\nhttps://t.co/HvYk64pptX\"},{\"public_metrics\":{\"retweet_count\":0,\"reply_count\":0,\"like_count\":0,\"quote_count\":0},\"author_id\":\"1476613355704098821\",\"id\":\"1585001009696604161\",\"lang\":\"en\",\"created_at\":\"2022-10-25T20:11:03.000Z\",\"edit_history_tweet_ids\":[\"1585001009696604161\"],\"text\":\"Gotham Knights’ Cops Are The Only Enemies That Don’t Give XP https://t.co/zLdkTUEqRo #gotham #cops #gothamcitypolicedepartment #creativeworks #gordon\"},{\"public_metrics\":{\"retweet_count\":0,\"reply_count\":0,\"like_count\":0,\"quote_count\":0},\"author_id\":\"1235877642626306049\",\"id\":\"1585000934618562561\",\"lang\":\"en\",\"created_at\":\"2022-10-25T20:10:45.000Z\",\"edit_history_tweet_ids\":[\"1585000934618562561\"],\"text\":\"Gotham Knights’ Cops Are The Only Enemies That Don’t Give XP https://t.co/7JI1eGzkcV\"},{\"public_metrics\":{\"retweet_count\":1,\"reply_count\":0,\"like_count\":3,\"quote_count\":0},\"author_id\":\"68365096\",\"id\":\"1584996979452641305\",\"lang\":\"en\",\"created_at\":\"2022-10-25T19:55:02.000Z\",\"edit_history_tweet_ids\":[\"1584996979452641305\"],\"text\":\"On commence Gotham Knights en mode deadly duo. Ok, y\\'a pas Batman mais @sbebiwan est mon guide. https://t.co/zyuKHsn9cN\"},{\"public_metrics\":{\"retweet_count\":0,\"reply_count\":4,\"like_count\":8,\"quote_count\":0},\"author_id\":\"1138042998049116163\",\"id\":\"1584996854504124418\",\"lang\":\"en\",\"created_at\":\"2022-10-25T19:54:32.000Z\",\"edit_history_tweet_ids\":[\"1584996854504124418\"],\"text\":\"Decided to pick up Gotham Knights. Let’s see if it’s any good.\\\\n#GothamKnights #PS5 https://t.co/m8MWv7EXdX\"},{\"public_metrics\":{\"retweet_count\":0,\"reply_count\":0,\"like_count\":3,\"quote_count\":0},\"author_id\":\"1375475797889323016\",\"id\":\"1584996735742808066\",\"lang\":\"en\",\"created_at\":\"2022-10-25T19:54:04.000Z\",\"edit_history_tweet_ids\":[\"1584996735742808066\"],\"text\":\"dont tell nobody but i be analyzing nightwing\\'s ass in gotham knights\"},{\"public_metrics\":{\"retweet_count\":1,\"reply_count\":0,\"like_count\":3,\"quote_count\":0},\"author_id\":\"1511716361038405636\",\"id\":\"1584996114868174870\",\"lang\":\"en\",\"created_at\":\"2022-10-25T19:51:36.000Z\",\"edit_history_tweet_ids\":[\"1584996114868174870\"],\"text\":\"Check out Gotham knights PS5 coop with potters https://t.co/IkdirGDhiM \\u2066 quick stream with \\u2066@Potters__\\u2069\"},{\"public_metrics\":{\"retweet_count\":0,\"reply_count\":0,\"like_count\":0,\"quote_count\":0},\"author_id\":\"1498609217892397057\",\"id\":\"1584994483804196864\",\"lang\":\"en\",\"created_at\":\"2022-10-25T19:45:07.000Z\",\"edit_history_tweet_ids\":[\"1584994483804196864\"],\"text\":\"Gotham Knights guide: Best build for Nightwing https://t.co/b4vrOXfSB1 #gaming #gamingcommunity #gamingnews\"},{\"public_metrics\":{\"retweet_count\":0,\"reply_count\":0,\"like_count\":1,\"quote_count\":0},\"author_id\":\"68365096\",\"id\":\"1584994185421414402\",\"lang\":\"en\",\"created_at\":\"2022-10-25T19:43:56.000Z\",\"edit_history_tweet_ids\":[\"1584994185421414402\"],\"text\":\"Si @sbebiwan fait Batgirl, ca me laisse Robin, Nightwing et Red Hood. Dans 15 mn on commence Gotham Knights ensemble. https://t.co/fBvp8xOfuE\"},{\"public_metrics\":{\"retweet_count\":0,\"reply_count\":0,\"like_count\":0,\"quote_count\":0},\"author_id\":\"25435296\",\"id\":\"1584993782118125568\",\"lang\":\"en\",\"created_at\":\"2022-10-25T19:42:20.000Z\",\"edit_history_tweet_ids\":[\"1584993782118125568\"],\"text\":\"Bit the bullet and picked up Gotham Knights for the Xbox Series X.  So far pretty good.  I\\'m enjoying the characters so far and the story is keeping me interested.  Can\\'t wait to delve further.\"},{\"public_metrics\":{\"retweet_count\":0,\"reply_count\":0,\"like_count\":0,\"quote_count\":0},\"author_id\":\"16647387\",\"id\":\"1584993205652783109\",\"lang\":\"en\",\"created_at\":\"2022-10-25T19:40:02.000Z\",\"edit_history_tweet_ids\":[\"1584993205652783109\"],\"text\":\"Gotham Knights Xbox Series X £44.99 USING CODE SWFNDD - Frugal Gaming https://t.co/ZzlzBiYM9i https://t.co/mWQAiq7B0n\"},{\"public_metrics\":{\"retweet_count\":0,\"reply_count\":0,\"like_count\":0,\"quote_count\":0},\"author_id\":\"1344281242095779841\",\"id\":\"1584991302655299585\",\"lang\":\"en\",\"created_at\":\"2022-10-25T19:32:28.000Z\",\"edit_history_tweet_ids\":[\"1584991302655299585\"],\"text\":\"is there a way to switch characters in gotham knights? i need to play nightwing https://t.co/COYETMG2Pp\"},{\"public_metrics\":{\"retweet_count\":0,\"reply_count\":0,\"like_count\":2,\"quote_count\":0},\"author_id\":\"2188714462\",\"id\":\"1584990681323315205\",\"lang\":\"en\",\"created_at\":\"2022-10-25T19:30:00.000Z\",\"edit_history_tweet_ids\":[\"1584990681323315205\"],\"text\":\"Gotham Knights \\\\nGame ∙ PS5 ∙ PC • 2022\\\\nAmazon PS5 $69.99 https://t.co/G2Ut40O66y \\\\nPS5 Deluxe $89.99 https://t.co/Efx5Jlt2Pr \\\\nPC $44.79 https://t.co/Rr7A3NtUO9 #ad https://t.co/6O5FI7EAtN\"},{\"public_metrics\":{\"retweet_count\":0,\"reply_count\":0,\"like_count\":3,\"quote_count\":0},\"author_id\":\"1342925648\",\"id\":\"1584988947067080704\",\"lang\":\"en\",\"created_at\":\"2022-10-25T19:23:07.000Z\",\"edit_history_tweet_ids\":[\"1584988947067080704\"],\"text\":\"ngl im happy for anyone who likes gotham knights \\\\nbatman game fans deserve to have fun like anyone else. https://t.co/NEeXZ7bIdS\"},{\"public_metrics\":{\"retweet_count\":0,\"reply_count\":0,\"like_count\":0,\"quote_count\":0},\"author_id\":\"16647387\",\"id\":\"1584988170390831104\",\"lang\":\"en\",\"created_at\":\"2022-10-25T19:20:02.000Z\",\"edit_history_tweet_ids\":[\"1584988170390831104\"],\"text\":\"Gotham Knights PS5 £44.99 USING CODE SWFNDD - Frugal Gaming https://t.co/08j2dEbwGE https://t.co/dUiITW6V7v\"},{\"public_metrics\":{\"retweet_count\":1,\"reply_count\":2,\"like_count\":28,\"quote_count\":1},\"author_id\":\"1101022593509924864\",\"id\":\"1584987953272483840\",\"lang\":\"en\",\"created_at\":\"2022-10-25T19:19:10.000Z\",\"edit_history_tweet_ids\":[\"1584987953272483840\"],\"text\":\"Jason Todd being a playable character in Gotham Knights but being heinously ugly is literally like when you ask a genie for anything and they turn it against you. I got what I wanted but at what cost.\"},{\"public_metrics\":{\"retweet_count\":0,\"reply_count\":0,\"like_count\":2,\"quote_count\":0},\"author_id\":\"484747965\",\"id\":\"1584987108623908864\",\"lang\":\"en\",\"created_at\":\"2022-10-25T19:15:48.000Z\",\"edit_history_tweet_ids\":[\"1584987108623908864\"],\"text\":\"Gotham Knights might be a trash game but it’s really hard to resist a game that lets me play as Barbara/Batgirl. https://t.co/dlGYfRISKc\"},{\"public_metrics\":{\"retweet_count\":0,\"reply_count\":0,\"like_count\":0,\"quote_count\":0},\"author_id\":\"6703212\",\"id\":\"1584986166251720704\",\"lang\":\"en\",\"created_at\":\"2022-10-25T19:12:04.000Z\",\"edit_history_tweet_ids\":[\"1584986166251720704\"],\"text\":\"Review - Batman Gotham Knights: Gilded City #1 - The First Bat\\\\nLink: https://t.co/rut4AIR3gL\"},{\"public_metrics\":{\"retweet_count\":0,\"reply_count\":0,\"like_count\":0,\"quote_count\":0},\"author_id\":\"1015308849224540160\",\"id\":\"1584985763032469504\",\"lang\":\"en\",\"created_at\":\"2022-10-25T19:10:28.000Z\",\"edit_history_tweet_ids\":[\"1584985763032469504\"],\"text\":\"GOTHAM KNIGHTS WALKTHROUGH PART SIX NO COMMENTARY(PS5) https://t.co/OG6CWnUNO7 via @YouTube\"},{\"public_metrics\":{\"retweet_count\":0,\"reply_count\":0,\"like_count\":0,\"quote_count\":0},\"author_id\":\"47890828\",\"id\":\"1584985434290937856\",\"lang\":\"en\",\"created_at\":\"2022-10-25T19:09:09.000Z\",\"edit_history_tweet_ids\":[\"1584985434290937856\"],\"text\":\"Gotham Knights was an easy 9/10 for me like i can understand if you don’t like the fighting but if you don’t like the story and you are a Batman fan i can only assume your favorite version of Batman is the All Star Batman and Robin version of him\"},{\"public_metrics\":{\"retweet_count\":0,\"reply_count\":0,\"like_count\":0,\"quote_count\":0},\"author_id\":\"127416052\",\"id\":\"1584985142661111809\",\"lang\":\"en\",\"created_at\":\"2022-10-25T19:08:00.000Z\",\"edit_history_tweet_ids\":[\"1584985142661111809\"],\"text\":\"\\\\uD83E\\\\uDD87 Gotham Knights glide into Minecraft in a new Batman-inspired DLC Pack ⛏ https://t.co/HBymDrMvBm\\\\n\\\\n#Minecraft #GothamKnights #Batman #Nightwing #Batgirl #Robin #RedHood #DCComics #DCUniverse @GothamKnights #videogames #gaming #PS4 \\\\uD83D\\\\uDD35 #PS5 #XBox ❎ #PCgames \\\\uD83D\\\\uDDA5️ #PCgaming\"},{\"public_metrics\":{\"retweet_count\":0,\"reply_count\":0,\"like_count\":0,\"quote_count\":0},\"author_id\":\"1575868700934426629\",\"id\":\"1584984844827869185\",\"lang\":\"en\",\"created_at\":\"2022-10-25T19:06:49.000Z\",\"edit_history_tweet_ids\":[\"1584984844827869185\"],\"text\":\"BATMAN: GOTHAM KNIGHTS - GILDED CITY is not only the official prequel to @GothamKnights—each issue includes a redeemable code for an exclusive in-game item! \\\\n\\\\nIssue #1 is out now at comics shops and on DC UNIVERSE INFINITE: https://t.co/QH3YdxKGwW https://t.co/DtJ1YpKiRu\"},{\"public_metrics\":{\"retweet_count\":0,\"reply_count\":0,\"like_count\":0,\"quote_count\":0},\"author_id\":\"1181285448066441216\",\"id\":\"1584983982457819136\",\"lang\":\"en\",\"created_at\":\"2022-10-25T19:03:23.000Z\",\"edit_history_tweet_ids\":[\"1584983982457819136\"],\"text\":\"finished the main story of Gotham knights as robin gonna replay as the other characters now but it was a lot of fun \\\\uD83D\\\\uDC4D\\\\uD83D\\\\uDC4D cloverknight https://t.co/SS8kj6oMSZ\"},{\"public_metrics\":{\"retweet_count\":0,\"reply_count\":0,\"like_count\":0,\"quote_count\":0},\"author_id\":\"4167256768\",\"id\":\"1584983544799105025\",\"lang\":\"en\",\"created_at\":\"2022-10-25T19:01:39.000Z\",\"edit_history_tweet_ids\":[\"1584983544799105025\"],\"text\":\"CaptainPicco played Gotham Knights (PS5) in the last 24 hours https://t.co/Ni5shKJFY1 #exophase\"},{\"public_metrics\":{\"retweet_count\":0,\"reply_count\":0,\"like_count\":0,\"quote_count\":0},\"author_id\":\"935258913938857987\",\"id\":\"1584983426394120192\",\"lang\":\"en\",\"created_at\":\"2022-10-25T19:01:11.000Z\",\"edit_history_tweet_ids\":[\"1584983426394120192\"],\"text\":\"Let\\'s Play! Gotham Knights Part 3: Training mit Batgirl\\\\nhttps://t.co/4F0nVNEk19\"},{\"public_metrics\":{\"retweet_count\":80,\"reply_count\":42,\"like_count\":613,\"quote_count\":7},\"author_id\":\"1284235566918205440\",\"id\":\"1584983170650615808\",\"lang\":\"en\",\"created_at\":\"2022-10-25T19:00:10.000Z\",\"edit_history_tweet_ids\":[\"1584983170650615808\"],\"text\":\"What was our Knights\\' last mission with their mentor? Find out in BATMAN: GOTHAM KNIGHTS — GILDED CITY. Issue #1 is available now: https://t.co/tFCJe4yKr1. #GothamKnights https://t.co/wavbcoIvaT\"},{\"public_metrics\":{\"retweet_count\":79,\"reply_count\":12,\"like_count\":620,\"quote_count\":3},\"author_id\":\"18173624\",\"id\":\"1584983154783387650\",\"lang\":\"en\",\"created_at\":\"2022-10-25T19:00:06.000Z\",\"edit_history_tweet_ids\":[\"1584983154783387650\"],\"text\":\"BATMAN: GOTHAM KNIGHTS - GILDED CITY is not only the official prequel to @GothamKnights—each issue includes a redeemable code for an exclusive in-game item! \\\\n\\\\nIssue #1 is out now at comics shops and on DC UNIVERSE INFINITE: https://t.co/CNh7V9at4N https://t.co/4rGt7kguHJ\"},{\"public_metrics\":{\"retweet_count\":0,\"reply_count\":0,\"like_count\":1,\"quote_count\":0},\"author_id\":\"1431016187698192386\",\"id\":\"1584982382310195200\",\"lang\":\"en\",\"created_at\":\"2022-10-25T18:57:02.000Z\",\"edit_history_tweet_ids\":[\"1584982382310195200\"],\"text\":\"Batgirl and Nightwing\\'s fat asses are honestly the most impressive thing about Gotham Knights. Can\\'t wait for the #SuicideSquad game https://t.co/9WYd4DW7QK\"},{\"public_metrics\":{\"retweet_count\":0,\"reply_count\":0,\"like_count\":0,\"quote_count\":0},\"author_id\":\"1459480065947979777\",\"id\":\"1584981443582644225\",\"lang\":\"en\",\"created_at\":\"2022-10-25T18:53:18.000Z\",\"edit_history_tweet_ids\":[\"1584981443582644225\"],\"text\":\"Can’t even hit 30 fps on Gotham knights on the ps5 or Xbox series X @GothamKnights I have loved every aspect so far but that\"},{\"public_metrics\":{\"retweet_count\":0,\"reply_count\":0,\"like_count\":0,\"quote_count\":1},\"author_id\":\"1211747197051490304\",\"id\":\"1584981208714608640\",\"lang\":\"en\",\"created_at\":\"2022-10-25T18:52:22.000Z\",\"edit_history_tweet_ids\":[\"1584981208714608640\"],\"text\":\"Just played Gotham Knights it’s so camp I love it kinda… both Robin AND Nightwing being bi is slay https://t.co/RXo8SXohtR\"},{\"public_metrics\":{\"retweet_count\":0,\"reply_count\":0,\"like_count\":0,\"quote_count\":0},\"author_id\":\"1425476479425581066\",\"id\":\"1584980700612231175\",\"lang\":\"en\",\"created_at\":\"2022-10-25T18:50:21.000Z\",\"edit_history_tweet_ids\":[\"1584980700612231175\"],\"text\":\"IM BATMAN ... I MEAN ROBIN (PART 4) | Gotham Knights Time | WELCOME | !discord !commands https://t.co/nZeGZvMqwR\"},{\"public_metrics\":{\"retweet_count\":0,\"reply_count\":0,\"like_count\":1,\"quote_count\":0},\"author_id\":\"753329698768171009\",\"id\":\"1584980522199314432\",\"lang\":\"en\",\"created_at\":\"2022-10-25T18:49:38.000Z\",\"edit_history_tweet_ids\":[\"1584980522199314432\"],\"text\":\"@Earth_928_2099 I heavily dislike Titans Red Hood, I think Gotham Knights was my favorite\"},{\"public_metrics\":{\"retweet_count\":0,\"reply_count\":0,\"like_count\":0,\"quote_count\":0},\"author_id\":\"1394167405883105281\",\"id\":\"1584980355173400576\",\"lang\":\"en\",\"created_at\":\"2022-10-25T18:48:58.000Z\",\"edit_history_tweet_ids\":[\"1584980355173400576\"],\"text\":\"@Harlock_ox @AntonioPm86 @itsdavidcardoso @BehindTGames Gotham Knights Series S mantiene sus FPS a 30 estables mientras que en PS5 sufren bajones a 27-25\"},{\"public_metrics\":{\"retweet_count\":1,\"reply_count\":0,\"like_count\":1,\"quote_count\":0},\"author_id\":\"1503720919545663495\",\"id\":\"1584980232481931264\",\"lang\":\"en\",\"created_at\":\"2022-10-25T18:48:29.000Z\",\"edit_history_tweet_ids\":[\"1584980232481931264\"],\"text\":\"NEW YOUTUBE VIDEO OUT NOW, Gotham Knights Playthrough PART 1! #explore #playthrough #gaming #youtube #newvideo #subscribe #funny #comedy #editing #newgame #contentcreator #smallcreator #gothamknights #batman #redhood #nightwing #batgirl #robin #gotham https://t.co/4jAYCs9coc\"},{\"public_metrics\":{\"retweet_count\":0,\"reply_count\":0,\"like_count\":0,\"quote_count\":0},\"author_id\":\"1177630406457397251\",\"id\":\"1584977237836992512\",\"lang\":\"en\",\"created_at\":\"2022-10-25T18:36:35.000Z\",\"edit_history_tweet_ids\":[\"1584977237836992512\"],\"text\":\"Imagine thinking Gotham knights is even remotely close to the same as Spider-Man ps4 lmao Spider-Man was an amazing game with fluid combat not a 70 dollar mobile game banking off the death of Batman as its major plot point lol https://t.co/5nLhS75gWa\"},{\"public_metrics\":{\"retweet_count\":0,\"reply_count\":0,\"like_count\":0,\"quote_count\":0},\"author_id\":\"1365105004164612096\",\"id\":\"1584976673707024384\",\"lang\":\"en\",\"created_at\":\"2022-10-25T18:34:21.000Z\",\"edit_history_tweet_ids\":[\"1584976673707024384\"],\"text\":\"Become the Knight! Gotham Knights Nightwing Playthrough! @LDTStreamers https://t.co/bameclQX13\"},{\"public_metrics\":{\"retweet_count\":0,\"reply_count\":0,\"like_count\":0,\"quote_count\":0},\"author_id\":\"15165643\",\"id\":\"1584975850344251418\",\"lang\":\"en\",\"created_at\":\"2022-10-25T18:31:04.000Z\",\"edit_history_tweet_ids\":[\"1584975850344251418\"],\"text\":\"Review - Batman Gotham Knights: Gilded City #1 - The First Bat\\\\nLink: https://t.co/mS3EqqDmzh\"},{\"public_metrics\":{\"retweet_count\":0,\"reply_count\":0,\"like_count\":2,\"quote_count\":0},\"author_id\":\"1084640354\",\"id\":\"1584975564405735424\",\"lang\":\"en\",\"created_at\":\"2022-10-25T18:29:56.000Z\",\"edit_history_tweet_ids\":[\"1584975564405735424\"],\"text\":\"Me: Oh boy, I can\\'t wait to play my new video game, Gotham Knights.\\\\nMy PS5, deciding it doesn\\'t want to que up updates anymore: https://t.co/QZcQvMZot5\"},{\"public_metrics\":{\"retweet_count\":0,\"reply_count\":0,\"like_count\":0,\"quote_count\":0},\"author_id\":\"1573087615498260480\",\"id\":\"1584975492670783496\",\"lang\":\"en\",\"created_at\":\"2022-10-25T18:29:39.000Z\",\"edit_history_tweet_ids\":[\"1584975492670783496\"],\"text\":\"El verdadero lider de los Gotham Knights no es ni Nightwing ni Batman. Soy yo... #PS5Share, #GothamKnights https://t.co/apbDVqR2Mm\"},{\"public_metrics\":{\"retweet_count\":0,\"reply_count\":0,\"like_count\":0,\"quote_count\":0},\"author_id\":\"1542654449461633024\",\"id\":\"1584974297566744576\",\"lang\":\"en\",\"created_at\":\"2022-10-25T18:24:54.000Z\",\"edit_history_tweet_ids\":[\"1584974297566744576\"],\"text\":\"lets help gotham. two main knights is red hood and batgirl  https://t.co/w5Br27yV04\"},{\"public_metrics\":{\"retweet_count\":0,\"reply_count\":1,\"like_count\":1,\"quote_count\":0},\"author_id\":\"33974480\",\"id\":\"1584974219128938496\",\"lang\":\"en\",\"created_at\":\"2022-10-25T18:24:35.000Z\",\"edit_history_tweet_ids\":[\"1584974219128938496\"],\"text\":\"As much as I’m all for canon bi tim and bi Nightwing… Gotham knights looks kinda shit imo\"},{\"public_metrics\":{\"retweet_count\":0,\"reply_count\":1,\"like_count\":0,\"quote_count\":0},\"author_id\":\"16078390\",\"id\":\"1584973794984087552\",\"lang\":\"en\",\"created_at\":\"2022-10-25T18:22:54.000Z\",\"edit_history_tweet_ids\":[\"1584973794984087552\"],\"text\":\"Is Nightwing’s ass phat in Gotham Knights??\"},{\"public_metrics\":{\"retweet_count\":0,\"reply_count\":0,\"like_count\":0,\"quote_count\":0},\"author_id\":\"2756881805\",\"id\":\"1584973114374778880\",\"lang\":\"en\",\"created_at\":\"2022-10-25T18:20:12.000Z\",\"edit_history_tweet_ids\":[\"1584973114374778880\"],\"text\":\"Was told there\\'s a scene in Gotham Knights where Bruce Wayne was a stripper, I NEED THIS SHIT NOW!!!!\"},{\"public_metrics\":{\"retweet_count\":0,\"reply_count\":2,\"like_count\":5,\"quote_count\":0},\"author_id\":\"1515923147559608320\",\"id\":\"1584973095886295040\",\"lang\":\"en\",\"created_at\":\"2022-10-25T18:20:08.000Z\",\"edit_history_tweet_ids\":[\"1584973095886295040\"],\"text\":\"I can’t say I’m super interested in playing Gotham Knights…\\\\n\\\\nBut the more I see of Nightwing… \\\\uD83D\\\\uDC40\"},{\"public_metrics\":{\"retweet_count\":0,\"reply_count\":0,\"like_count\":0,\"quote_count\":0},\"author_id\":\"1561749282864111618\",\"id\":\"1584972131758399488\",\"lang\":\"en\",\"created_at\":\"2022-10-25T18:16:18.000Z\",\"edit_history_tweet_ids\":[\"1584972131758399488\"],\"text\":\"The Gotham Knights are just the human versions of the Teenage Mutan Ninja Turtles...\\\\n\\\\nNightwing/Dick Grayson = Leonardo\\\\nRed Hood/Jason Todd = Raphael\\\\nRobin/Tim Drake = Michaelangelo\\\\nBatgirl/Barbara Gordon = Donatello\"},{\"public_metrics\":{\"retweet_count\":0,\"reply_count\":0,\"like_count\":0,\"quote_count\":0},\"author_id\":\"1535456317409828866\",\"id\":\"1584971939944157185\",\"lang\":\"en\",\"created_at\":\"2022-10-25T18:15:32.000Z\",\"edit_history_tweet_ids\":[\"1584971939944157185\"],\"text\":\"Poor star ocean it’s coming out in the middle of a mario game, Gotham knights, call of duty , and Bayonetta 3\\\\n\\\\n#StarOcean #PS5 https://t.co/cUBPGATomd\"},{\"public_metrics\":{\"retweet_count\":0,\"reply_count\":0,\"like_count\":0,\"quote_count\":0},\"author_id\":\"1074167885608730624\",\"id\":\"1584971097522380801\",\"lang\":\"en\",\"created_at\":\"2022-10-25T18:12:11.000Z\",\"edit_history_tweet_ids\":[\"1584971097522380801\"],\"text\":\"I didn’t like Tim drake fr but Robin is lowkey the best in Gotham knights\"},{\"public_metrics\":{\"retweet_count\":0,\"reply_count\":0,\"like_count\":0,\"quote_count\":0},\"author_id\":\"865712454872907776\",\"id\":\"1584971029411205130\",\"lang\":\"en\",\"created_at\":\"2022-10-25T18:11:55.000Z\",\"edit_history_tweet_ids\":[\"1584971029411205130\"],\"text\":\"I just posted \\\\\"Gotham Knights Batgirl part 2\\\\\" on Reddit\\\\n\\\\nhttps://t.co/7JY3tCt3iP\"},{\"public_metrics\":{\"retweet_count\":0,\"reply_count\":0,\"like_count\":0,\"quote_count\":0},\"author_id\":\"1342547649531035648\",\"id\":\"1584970694252978176\",\"lang\":\"en\",\"created_at\":\"2022-10-25T18:10:35.000Z\",\"edit_history_tweet_ids\":[\"1584970694252978176\"],\"text\":\"@GothamKnights @WBGamesMTL #twitchlive #smallstreamer #twitchVOD @SmallStreamers #SmallStreamerCommunity @Streamboosts #twitchstreamer  \\\\n\\\\n[USA][PS5] Gotham Knights 10/25/2022 https://t.co/sYBTp3kgQW\"},{\"public_metrics\":{\"retweet_count\":0,\"reply_count\":0,\"like_count\":0,\"quote_count\":0},\"author_id\":\"59593016\",\"id\":\"1584969543197155328\",\"lang\":\"en\",\"created_at\":\"2022-10-25T18:06:01.000Z\",\"edit_history_tweet_ids\":[\"1584969543197155328\"],\"text\":\"I don’t understand all the negativity around Gotham Knights. Seeing as I am really enjoying the game! And I’m taking my sweet ass time! Batgirl is my first pick and I am kicking ass with her. Fun times! @GothamKnights https://t.co/extS9wT9jy\"},{\"public_metrics\":{\"retweet_count\":0,\"reply_count\":0,\"like_count\":0,\"quote_count\":0},\"author_id\":\"1202413212039299072\",\"id\":\"1584968913913319439\",\"lang\":\"en\",\"created_at\":\"2022-10-25T18:03:31.000Z\",\"edit_history_tweet_ids\":[\"1584968913913319439\"],\"text\":\"Liked on YouTube: Gotham Knights - Red Hood Is A Cheat Code | New Game Plus | Max Level Grinding Level 40 https://t.co/AXOWTKsKtu\"},{\"public_metrics\":{\"retweet_count\":0,\"reply_count\":0,\"like_count\":0,\"quote_count\":0},\"author_id\":\"22213104\",\"id\":\"1584967516535009280\",\"lang\":\"en\",\"created_at\":\"2022-10-25T17:57:57.000Z\",\"edit_history_tweet_ids\":[\"1584967516535009280\"],\"text\":\"Batman Gotham Knights Gilded City 1 is in stores today! It comes with codes EXCLUSIVE to the comic for in the game! Get it here!  #batmangothamknights #Batman https://t.co/dpq2pAyZlU\"},{\"public_metrics\":{\"retweet_count\":0,\"reply_count\":1,\"like_count\":1,\"quote_count\":0},\"author_id\":\"581381519\",\"id\":\"1584967386800656384\",\"lang\":\"en\",\"created_at\":\"2022-10-25T17:57:26.000Z\",\"edit_history_tweet_ids\":[\"1584967386800656384\"],\"text\":\"@langston_120 You take them back to store along with the switch and ps5 themselves and go buy a pc to play with the big boys! Jk jk, gotham knights should def be first lmao.\"},{\"public_metrics\":{\"retweet_count\":2,\"reply_count\":0,\"like_count\":31,\"quote_count\":1},\"author_id\":\"1521354382251544576\",\"id\":\"1584966714021752832\",\"lang\":\"en\",\"created_at\":\"2022-10-25T17:54:46.000Z\",\"edit_history_tweet_ids\":[\"1584966714021752832\"],\"text\":\"Gotham Knights might not be perfect but playing as Nightwing fighting the freaking Court of Owls is a damn fun time idk\"},{\"public_metrics\":{\"retweet_count\":0,\"reply_count\":0,\"like_count\":0,\"quote_count\":0},\"author_id\":\"831964175895232514\",\"id\":\"1584966605439701002\",\"lang\":\"en\",\"created_at\":\"2022-10-25T17:54:20.000Z\",\"edit_history_tweet_ids\":[\"1584966605439701002\"],\"text\":\"RIO_JKG played Gotham Knights (PS5) in the last 24 hours https://t.co/cT506tNiFS #exophase\"},{\"public_metrics\":{\"retweet_count\":0,\"reply_count\":0,\"like_count\":0,\"quote_count\":0},\"author_id\":\"129677412\",\"id\":\"1584966339302547456\",\"lang\":\"en\",\"created_at\":\"2022-10-25T17:53:17.000Z\",\"edit_history_tweet_ids\":[\"1584966339302547456\"],\"text\":\"I think will play Gotham Knights on PS5 in a little  bit.\"},{\"public_metrics\":{\"retweet_count\":0,\"reply_count\":0,\"like_count\":0,\"quote_count\":0},\"author_id\":\"2542186045\",\"id\":\"1584966316443766787\",\"lang\":\"en\",\"created_at\":\"2022-10-25T17:53:11.000Z\",\"edit_history_tweet_ids\":[\"1584966316443766787\"],\"text\":\"taliatate played Gotham Knights (PS5) in the last 24 hours https://t.co/qaXZPrrA7U #exophase\"},{\"public_metrics\":{\"retweet_count\":0,\"reply_count\":0,\"like_count\":0,\"quote_count\":0},\"author_id\":\"507865095\",\"id\":\"1584964294579523593\",\"lang\":\"en\",\"created_at\":\"2022-10-25T17:45:09.000Z\",\"edit_history_tweet_ids\":[\"1584964294579523593\"],\"text\":\"GOTHAM KNIGHTS: DELUXE PC\\\\n$61.69\\\\n\\\\nhttps://t.co/2un5a9ryxi\\\\n\\\\n#gamers #Batman #steam #dc #Warnerbros #GOTHAMKNIGHTS #DELUXEEdition #PC\"},{\"public_metrics\":{\"retweet_count\":0,\"reply_count\":0,\"like_count\":0,\"quote_count\":0},\"author_id\":\"1275933441880702978\",\"id\":\"1584963914072485888\",\"lang\":\"en\",\"created_at\":\"2022-10-25T17:43:38.000Z\",\"edit_history_tweet_ids\":[\"1584963914072485888\"],\"text\":\"@TrixRidiculous True but I play Gotham knights on my Xbox series X\"}],\"meta\":{\"newest_id\":\"1585019041970016256\",\"oldest_id\":\"1584963914072485888\",\"result_count\":98,\"next_token\":\"b26v89c19zqg8o3fpzel4w69g0kzlt2chtezxcac6mnwd\"}}'"
      ]
     },
     "execution_count": 325,
     "metadata": {},
     "output_type": "execute_result"
    }
   ],
   "source": [
    "response.text"
   ]
  },
  {
   "cell_type": "markdown",
   "id": "ad10279a",
   "metadata": {},
   "source": [
    "<span style =\"font-family:Optima\">With response.text variable, the data I searched for is now viewable. But right now, it looks like a bunch of gibberish. The data can be more readable and organized through the use of tables.</span>"
   ]
  },
  {
   "cell_type": "code",
   "execution_count": 326,
   "id": "2906675c",
   "metadata": {},
   "outputs": [],
   "source": [
    "response_dict = json.loads(response.text)"
   ]
  },
  {
   "cell_type": "code",
   "execution_count": 327,
   "id": "b5514c38",
   "metadata": {},
   "outputs": [
    {
     "data": {
      "text/plain": [
       "dict_keys(['data', 'meta'])"
      ]
     },
     "execution_count": 327,
     "metadata": {},
     "output_type": "execute_result"
    }
   ],
   "source": [
    "response_dict.keys()"
   ]
  },
  {
   "cell_type": "code",
   "execution_count": 328,
   "id": "7d17d440",
   "metadata": {
    "scrolled": false
   },
   "outputs": [
    {
     "data": {
      "text/plain": [
       "list"
      ]
     },
     "execution_count": 328,
     "metadata": {},
     "output_type": "execute_result"
    }
   ],
   "source": [
    "type(response_dict['data'])"
   ]
  },
  {
   "cell_type": "code",
   "execution_count": 329,
   "id": "df486eaa",
   "metadata": {},
   "outputs": [
    {
     "data": {
      "text/plain": [
       "dict"
      ]
     },
     "execution_count": 329,
     "metadata": {},
     "output_type": "execute_result"
    }
   ],
   "source": [
    "type(response_dict['data'][0])"
   ]
  },
  {
   "cell_type": "code",
   "execution_count": 330,
   "id": "f2e1797d",
   "metadata": {},
   "outputs": [
    {
     "data": {
      "text/plain": [
       "dict_keys(['public_metrics', 'author_id', 'id', 'lang', 'created_at', 'edit_history_tweet_ids', 'text'])"
      ]
     },
     "execution_count": 330,
     "metadata": {},
     "output_type": "execute_result"
    }
   ],
   "source": [
    "response_dict['data'][0].keys()"
   ]
  },
  {
   "cell_type": "markdown",
   "id": "6f81c3a6",
   "metadata": {},
   "source": [
    "<span style =\"font-family:Optima\">By making a table using the pandas system, each tweet category can be organized into a readable file. In the response_dict variable, I was able to load the previous response.text variable as a json file. The json file is important as that's the file format used to create tables using pandas. Through the use of keys() for response_dict, there are now viable categories to what response_dict is; 'data' and 'meta'. By examining data through type and keys() theres now a better understanding of what exactly 'data' is (edit_history_tweet_ids', 'public_metrics', 'text', 'id', 'created_at', 'author_id', 'lang (language)'. "
   ]
  },
  {
   "cell_type": "code",
   "execution_count": 331,
   "id": "a57710b3",
   "metadata": {
    "scrolled": true
   },
   "outputs": [
    {
     "data": {
      "text/plain": [
       "'Look like ill be starting Gotham Knights as Nightwing Today'"
      ]
     },
     "execution_count": 331,
     "metadata": {},
     "output_type": "execute_result"
    }
   ],
   "source": [
    "response_dict['data'][0]['text']"
   ]
  },
  {
   "cell_type": "code",
   "execution_count": 332,
   "id": "59d4afb4",
   "metadata": {
    "scrolled": false
   },
   "outputs": [
    {
     "data": {
      "text/plain": [
       "dict"
      ]
     },
     "execution_count": 332,
     "metadata": {},
     "output_type": "execute_result"
    }
   ],
   "source": [
    "type(response_dict['data'][0]['public_metrics'])"
   ]
  },
  {
   "cell_type": "code",
   "execution_count": 333,
   "id": "c7966bca",
   "metadata": {
    "scrolled": true
   },
   "outputs": [
    {
     "data": {
      "text/plain": [
       "dict_keys(['retweet_count', 'reply_count', 'like_count', 'quote_count'])"
      ]
     },
     "execution_count": 333,
     "metadata": {},
     "output_type": "execute_result"
    }
   ],
   "source": [
    "response_dict['data'][0]['public_metrics'].keys()"
   ]
  },
  {
   "cell_type": "markdown",
   "id": "8568ab9b",
   "metadata": {},
   "source": [
    "<span style =\"font-family:Optima\">Just like how 'data' was extracted using dictionaries and keys() the same was done for public metrics to show more categories.</span>"
   ]
  },
  {
   "cell_type": "code",
   "execution_count": 334,
   "id": "b5063e94",
   "metadata": {
    "scrolled": false
   },
   "outputs": [
    {
     "data": {
      "text/plain": [
       "0"
      ]
     },
     "execution_count": 334,
     "metadata": {},
     "output_type": "execute_result"
    }
   ],
   "source": [
    "response_dict['data'][0]['public_metrics']['like_count']"
   ]
  },
  {
   "cell_type": "code",
   "execution_count": 335,
   "id": "3ee10b1c",
   "metadata": {
    "scrolled": true
   },
   "outputs": [
    {
     "data": {
      "text/plain": [
       "'1585017275815694336'"
      ]
     },
     "execution_count": 335,
     "metadata": {},
     "output_type": "execute_result"
    }
   ],
   "source": [
    "response_dict['data'][4]['id']"
   ]
  },
  {
   "cell_type": "markdown",
   "id": "a7e43eba",
   "metadata": {},
   "source": [
    "<span style =\"font-family:Optima\">While I can create the table now, its important to test a few of the categories to make sure the API system is functioning. By targeting certain aspects of 'data' along with what number of tweet was collected, I can see if the system has been collecting the data. Public_metrics was also defined more through dict and keys() to give further meaning and understanding to public_metrics (because I sure didn't know what public_metrics meant!). The categories discovered in public_metrics (retweet_count, reply_count, like_count, quote_count) will be used later in the report, for now, I'm going to take the categories from 'data' and create a table. "
   ]
  },
  {
   "cell_type": "code",
   "execution_count": 336,
   "id": "87048b64",
   "metadata": {},
   "outputs": [],
   "source": [
    "response_df = pd.DataFrame(response_dict['data'])\n",
    "response_df2 = response_df"
   ]
  },
  {
   "cell_type": "code",
   "execution_count": 337,
   "id": "f78c5252",
   "metadata": {
    "scrolled": true
   },
   "outputs": [
    {
     "data": {
      "text/html": [
       "<div>\n",
       "<style scoped>\n",
       "    .dataframe tbody tr th:only-of-type {\n",
       "        vertical-align: middle;\n",
       "    }\n",
       "\n",
       "    .dataframe tbody tr th {\n",
       "        vertical-align: top;\n",
       "    }\n",
       "\n",
       "    .dataframe thead th {\n",
       "        text-align: right;\n",
       "    }\n",
       "</style>\n",
       "<table border=\"1\" class=\"dataframe\">\n",
       "  <thead>\n",
       "    <tr style=\"text-align: right;\">\n",
       "      <th></th>\n",
       "      <th>public_metrics</th>\n",
       "      <th>author_id</th>\n",
       "      <th>id</th>\n",
       "      <th>lang</th>\n",
       "      <th>created_at</th>\n",
       "      <th>edit_history_tweet_ids</th>\n",
       "      <th>text</th>\n",
       "    </tr>\n",
       "  </thead>\n",
       "  <tbody>\n",
       "    <tr>\n",
       "      <th>0</th>\n",
       "      <td>{'retweet_count': 0, 'reply_count': 0, 'like_c...</td>\n",
       "      <td>1194477339452858368</td>\n",
       "      <td>1585019041970016256</td>\n",
       "      <td>en</td>\n",
       "      <td>2022-10-25T21:22:42.000Z</td>\n",
       "      <td>[1585019041970016256]</td>\n",
       "      <td>Look like ill be starting Gotham Knights as Ni...</td>\n",
       "    </tr>\n",
       "    <tr>\n",
       "      <th>1</th>\n",
       "      <td>{'retweet_count': 0, 'reply_count': 0, 'like_c...</td>\n",
       "      <td>156309286</td>\n",
       "      <td>1585019000828100609</td>\n",
       "      <td>en</td>\n",
       "      <td>2022-10-25T21:22:32.000Z</td>\n",
       "      <td>[1585019000828100609]</td>\n",
       "      <td>Gotham Knights really makes you FEEL like you'...</td>\n",
       "    </tr>\n",
       "    <tr>\n",
       "      <th>2</th>\n",
       "      <td>{'retweet_count': 0, 'reply_count': 0, 'like_c...</td>\n",
       "      <td>1155613652566720512</td>\n",
       "      <td>1585018546584780801</td>\n",
       "      <td>en</td>\n",
       "      <td>2022-10-25T21:20:44.000Z</td>\n",
       "      <td>[1585018546584780801]</td>\n",
       "      <td>GOTHAM KNIGHTS Walkthrough Gameplay Part 4 - B...</td>\n",
       "    </tr>\n",
       "    <tr>\n",
       "      <th>3</th>\n",
       "      <td>{'retweet_count': 0, 'reply_count': 1, 'like_c...</td>\n",
       "      <td>1388118760771526656</td>\n",
       "      <td>1585017811755499521</td>\n",
       "      <td>en</td>\n",
       "      <td>2022-10-25T21:17:49.000Z</td>\n",
       "      <td>[1585017811755499521]</td>\n",
       "      <td>Jason's default attire/New Guard suit in Gotha...</td>\n",
       "    </tr>\n",
       "    <tr>\n",
       "      <th>4</th>\n",
       "      <td>{'retweet_count': 0, 'reply_count': 0, 'like_c...</td>\n",
       "      <td>2816453508</td>\n",
       "      <td>1585017275815694336</td>\n",
       "      <td>en</td>\n",
       "      <td>2022-10-25T21:15:41.000Z</td>\n",
       "      <td>[1585017275815694336]</td>\n",
       "      <td>Playing as Nightwing in Gotham Knights!! \\n#Ni...</td>\n",
       "    </tr>\n",
       "  </tbody>\n",
       "</table>\n",
       "</div>"
      ],
      "text/plain": [
       "                                      public_metrics            author_id  \\\n",
       "0  {'retweet_count': 0, 'reply_count': 0, 'like_c...  1194477339452858368   \n",
       "1  {'retweet_count': 0, 'reply_count': 0, 'like_c...            156309286   \n",
       "2  {'retweet_count': 0, 'reply_count': 0, 'like_c...  1155613652566720512   \n",
       "3  {'retweet_count': 0, 'reply_count': 1, 'like_c...  1388118760771526656   \n",
       "4  {'retweet_count': 0, 'reply_count': 0, 'like_c...           2816453508   \n",
       "\n",
       "                    id lang                created_at edit_history_tweet_ids  \\\n",
       "0  1585019041970016256   en  2022-10-25T21:22:42.000Z  [1585019041970016256]   \n",
       "1  1585019000828100609   en  2022-10-25T21:22:32.000Z  [1585019000828100609]   \n",
       "2  1585018546584780801   en  2022-10-25T21:20:44.000Z  [1585018546584780801]   \n",
       "3  1585017811755499521   en  2022-10-25T21:17:49.000Z  [1585017811755499521]   \n",
       "4  1585017275815694336   en  2022-10-25T21:15:41.000Z  [1585017275815694336]   \n",
       "\n",
       "                                                text  \n",
       "0  Look like ill be starting Gotham Knights as Ni...  \n",
       "1  Gotham Knights really makes you FEEL like you'...  \n",
       "2  GOTHAM KNIGHTS Walkthrough Gameplay Part 4 - B...  \n",
       "3  Jason's default attire/New Guard suit in Gotha...  \n",
       "4  Playing as Nightwing in Gotham Knights!! \\n#Ni...  "
      ]
     },
     "execution_count": 337,
     "metadata": {},
     "output_type": "execute_result"
    }
   ],
   "source": [
    "response_df.head()"
   ]
  },
  {
   "cell_type": "markdown",
   "id": "1ab0841c",
   "metadata": {},
   "source": [
    "<span style =\"font-family:Optima\">There, that's better! Through using data frames there's now a readable table of most of the info collected. Notice how public_metrics has multiple sub categories. I'm now going to put the categories from response_dict['data'][0]['public_metrics'].keys() into the table.</span>"
   ]
  },
  {
   "cell_type": "code",
   "execution_count": 338,
   "id": "10409016",
   "metadata": {
    "scrolled": true
   },
   "outputs": [],
   "source": [
    "public_metrics_df = pd.DataFrame(list(response_df['public_metrics']))"
   ]
  },
  {
   "cell_type": "code",
   "execution_count": 339,
   "id": "4fa3d294",
   "metadata": {
    "scrolled": true
   },
   "outputs": [
    {
     "data": {
      "text/html": [
       "<div>\n",
       "<style scoped>\n",
       "    .dataframe tbody tr th:only-of-type {\n",
       "        vertical-align: middle;\n",
       "    }\n",
       "\n",
       "    .dataframe tbody tr th {\n",
       "        vertical-align: top;\n",
       "    }\n",
       "\n",
       "    .dataframe thead th {\n",
       "        text-align: right;\n",
       "    }\n",
       "</style>\n",
       "<table border=\"1\" class=\"dataframe\">\n",
       "  <thead>\n",
       "    <tr style=\"text-align: right;\">\n",
       "      <th></th>\n",
       "      <th>retweet_count</th>\n",
       "      <th>reply_count</th>\n",
       "      <th>like_count</th>\n",
       "      <th>quote_count</th>\n",
       "    </tr>\n",
       "  </thead>\n",
       "  <tbody>\n",
       "    <tr>\n",
       "      <th>0</th>\n",
       "      <td>0</td>\n",
       "      <td>0</td>\n",
       "      <td>0</td>\n",
       "      <td>0</td>\n",
       "    </tr>\n",
       "    <tr>\n",
       "      <th>1</th>\n",
       "      <td>0</td>\n",
       "      <td>0</td>\n",
       "      <td>1</td>\n",
       "      <td>0</td>\n",
       "    </tr>\n",
       "    <tr>\n",
       "      <th>2</th>\n",
       "      <td>0</td>\n",
       "      <td>0</td>\n",
       "      <td>1</td>\n",
       "      <td>0</td>\n",
       "    </tr>\n",
       "    <tr>\n",
       "      <th>3</th>\n",
       "      <td>0</td>\n",
       "      <td>1</td>\n",
       "      <td>0</td>\n",
       "      <td>0</td>\n",
       "    </tr>\n",
       "    <tr>\n",
       "      <th>4</th>\n",
       "      <td>0</td>\n",
       "      <td>0</td>\n",
       "      <td>0</td>\n",
       "      <td>0</td>\n",
       "    </tr>\n",
       "    <tr>\n",
       "      <th>...</th>\n",
       "      <td>...</td>\n",
       "      <td>...</td>\n",
       "      <td>...</td>\n",
       "      <td>...</td>\n",
       "    </tr>\n",
       "    <tr>\n",
       "      <th>93</th>\n",
       "      <td>0</td>\n",
       "      <td>0</td>\n",
       "      <td>0</td>\n",
       "      <td>0</td>\n",
       "    </tr>\n",
       "    <tr>\n",
       "      <th>94</th>\n",
       "      <td>0</td>\n",
       "      <td>0</td>\n",
       "      <td>0</td>\n",
       "      <td>0</td>\n",
       "    </tr>\n",
       "    <tr>\n",
       "      <th>95</th>\n",
       "      <td>0</td>\n",
       "      <td>0</td>\n",
       "      <td>0</td>\n",
       "      <td>0</td>\n",
       "    </tr>\n",
       "    <tr>\n",
       "      <th>96</th>\n",
       "      <td>0</td>\n",
       "      <td>0</td>\n",
       "      <td>0</td>\n",
       "      <td>0</td>\n",
       "    </tr>\n",
       "    <tr>\n",
       "      <th>97</th>\n",
       "      <td>0</td>\n",
       "      <td>0</td>\n",
       "      <td>0</td>\n",
       "      <td>0</td>\n",
       "    </tr>\n",
       "  </tbody>\n",
       "</table>\n",
       "<p>98 rows × 4 columns</p>\n",
       "</div>"
      ],
      "text/plain": [
       "    retweet_count  reply_count  like_count  quote_count\n",
       "0               0            0           0            0\n",
       "1               0            0           1            0\n",
       "2               0            0           1            0\n",
       "3               0            1           0            0\n",
       "4               0            0           0            0\n",
       "..            ...          ...         ...          ...\n",
       "93              0            0           0            0\n",
       "94              0            0           0            0\n",
       "95              0            0           0            0\n",
       "96              0            0           0            0\n",
       "97              0            0           0            0\n",
       "\n",
       "[98 rows x 4 columns]"
      ]
     },
     "execution_count": 339,
     "metadata": {},
     "output_type": "execute_result"
    }
   ],
   "source": [
    "public_metrics_df"
   ]
  },
  {
   "cell_type": "code",
   "execution_count": 340,
   "id": "2d302d03",
   "metadata": {
    "scrolled": true
   },
   "outputs": [],
   "source": [
    "response_df['retweets'] = public_metrics_df['retweet_count']\n",
    "response_df['replies'] = public_metrics_df['reply_count']\n",
    "response_df['likes'] = public_metrics_df['like_count']\n",
    "response_df['quotes'] = public_metrics_df['quote_count']"
   ]
  },
  {
   "cell_type": "markdown",
   "id": "93b377ff",
   "metadata": {},
   "source": [
    "<span style =\"font-family:Optima\">By creating a data frame solely based on public_metrics, the categories can now be used for the table. When each category is in its own data, frame it can act as its own column.</span>"
   ]
  },
  {
   "cell_type": "code",
   "execution_count": 341,
   "id": "bc1bc447",
   "metadata": {
    "scrolled": false
   },
   "outputs": [
    {
     "data": {
      "text/html": [
       "<div>\n",
       "<style scoped>\n",
       "    .dataframe tbody tr th:only-of-type {\n",
       "        vertical-align: middle;\n",
       "    }\n",
       "\n",
       "    .dataframe tbody tr th {\n",
       "        vertical-align: top;\n",
       "    }\n",
       "\n",
       "    .dataframe thead th {\n",
       "        text-align: right;\n",
       "    }\n",
       "</style>\n",
       "<table border=\"1\" class=\"dataframe\">\n",
       "  <thead>\n",
       "    <tr style=\"text-align: right;\">\n",
       "      <th></th>\n",
       "      <th>public_metrics</th>\n",
       "      <th>author_id</th>\n",
       "      <th>id</th>\n",
       "      <th>lang</th>\n",
       "      <th>created_at</th>\n",
       "      <th>edit_history_tweet_ids</th>\n",
       "      <th>text</th>\n",
       "      <th>retweets</th>\n",
       "      <th>replies</th>\n",
       "      <th>likes</th>\n",
       "      <th>quotes</th>\n",
       "    </tr>\n",
       "  </thead>\n",
       "  <tbody>\n",
       "    <tr>\n",
       "      <th>0</th>\n",
       "      <td>{'retweet_count': 0, 'reply_count': 0, 'like_c...</td>\n",
       "      <td>1194477339452858368</td>\n",
       "      <td>1585019041970016256</td>\n",
       "      <td>en</td>\n",
       "      <td>2022-10-25T21:22:42.000Z</td>\n",
       "      <td>[1585019041970016256]</td>\n",
       "      <td>Look like ill be starting Gotham Knights as Ni...</td>\n",
       "      <td>0</td>\n",
       "      <td>0</td>\n",
       "      <td>0</td>\n",
       "      <td>0</td>\n",
       "    </tr>\n",
       "    <tr>\n",
       "      <th>1</th>\n",
       "      <td>{'retweet_count': 0, 'reply_count': 0, 'like_c...</td>\n",
       "      <td>156309286</td>\n",
       "      <td>1585019000828100609</td>\n",
       "      <td>en</td>\n",
       "      <td>2022-10-25T21:22:32.000Z</td>\n",
       "      <td>[1585019000828100609]</td>\n",
       "      <td>Gotham Knights really makes you FEEL like you'...</td>\n",
       "      <td>0</td>\n",
       "      <td>0</td>\n",
       "      <td>1</td>\n",
       "      <td>0</td>\n",
       "    </tr>\n",
       "    <tr>\n",
       "      <th>2</th>\n",
       "      <td>{'retweet_count': 0, 'reply_count': 0, 'like_c...</td>\n",
       "      <td>1155613652566720512</td>\n",
       "      <td>1585018546584780801</td>\n",
       "      <td>en</td>\n",
       "      <td>2022-10-25T21:20:44.000Z</td>\n",
       "      <td>[1585018546584780801]</td>\n",
       "      <td>GOTHAM KNIGHTS Walkthrough Gameplay Part 4 - B...</td>\n",
       "      <td>0</td>\n",
       "      <td>0</td>\n",
       "      <td>1</td>\n",
       "      <td>0</td>\n",
       "    </tr>\n",
       "    <tr>\n",
       "      <th>3</th>\n",
       "      <td>{'retweet_count': 0, 'reply_count': 1, 'like_c...</td>\n",
       "      <td>1388118760771526656</td>\n",
       "      <td>1585017811755499521</td>\n",
       "      <td>en</td>\n",
       "      <td>2022-10-25T21:17:49.000Z</td>\n",
       "      <td>[1585017811755499521]</td>\n",
       "      <td>Jason's default attire/New Guard suit in Gotha...</td>\n",
       "      <td>0</td>\n",
       "      <td>1</td>\n",
       "      <td>0</td>\n",
       "      <td>0</td>\n",
       "    </tr>\n",
       "    <tr>\n",
       "      <th>4</th>\n",
       "      <td>{'retweet_count': 0, 'reply_count': 0, 'like_c...</td>\n",
       "      <td>2816453508</td>\n",
       "      <td>1585017275815694336</td>\n",
       "      <td>en</td>\n",
       "      <td>2022-10-25T21:15:41.000Z</td>\n",
       "      <td>[1585017275815694336]</td>\n",
       "      <td>Playing as Nightwing in Gotham Knights!! \\n#Ni...</td>\n",
       "      <td>0</td>\n",
       "      <td>0</td>\n",
       "      <td>0</td>\n",
       "      <td>0</td>\n",
       "    </tr>\n",
       "  </tbody>\n",
       "</table>\n",
       "</div>"
      ],
      "text/plain": [
       "                                      public_metrics            author_id  \\\n",
       "0  {'retweet_count': 0, 'reply_count': 0, 'like_c...  1194477339452858368   \n",
       "1  {'retweet_count': 0, 'reply_count': 0, 'like_c...            156309286   \n",
       "2  {'retweet_count': 0, 'reply_count': 0, 'like_c...  1155613652566720512   \n",
       "3  {'retweet_count': 0, 'reply_count': 1, 'like_c...  1388118760771526656   \n",
       "4  {'retweet_count': 0, 'reply_count': 0, 'like_c...           2816453508   \n",
       "\n",
       "                    id lang                created_at edit_history_tweet_ids  \\\n",
       "0  1585019041970016256   en  2022-10-25T21:22:42.000Z  [1585019041970016256]   \n",
       "1  1585019000828100609   en  2022-10-25T21:22:32.000Z  [1585019000828100609]   \n",
       "2  1585018546584780801   en  2022-10-25T21:20:44.000Z  [1585018546584780801]   \n",
       "3  1585017811755499521   en  2022-10-25T21:17:49.000Z  [1585017811755499521]   \n",
       "4  1585017275815694336   en  2022-10-25T21:15:41.000Z  [1585017275815694336]   \n",
       "\n",
       "                                                text  retweets  replies  \\\n",
       "0  Look like ill be starting Gotham Knights as Ni...         0        0   \n",
       "1  Gotham Knights really makes you FEEL like you'...         0        0   \n",
       "2  GOTHAM KNIGHTS Walkthrough Gameplay Part 4 - B...         0        0   \n",
       "3  Jason's default attire/New Guard suit in Gotha...         0        1   \n",
       "4  Playing as Nightwing in Gotham Knights!! \\n#Ni...         0        0   \n",
       "\n",
       "   likes  quotes  \n",
       "0      0       0  \n",
       "1      1       0  \n",
       "2      1       0  \n",
       "3      0       0  \n",
       "4      0       0  "
      ]
     },
     "execution_count": 341,
     "metadata": {},
     "output_type": "execute_result"
    }
   ],
   "source": [
    "response_df.head()"
   ]
  },
  {
   "cell_type": "markdown",
   "id": "15e15871",
   "metadata": {},
   "source": [
    "<span style =\"font-family:Optima\">Now there are four new categories in the table. I'm going to combine public_metrics_df with the response_df table. While not necessary for this table, the public_metrics_df will come in handy for the final table.</span>"
   ]
  },
  {
   "cell_type": "code",
   "execution_count": 343,
   "id": "084e1b65",
   "metadata": {},
   "outputs": [],
   "source": [
    "response_df2 = response_df2.join(public_metrics_df)"
   ]
  },
  {
   "cell_type": "code",
   "execution_count": 344,
   "id": "66dcb44a",
   "metadata": {},
   "outputs": [
    {
     "data": {
      "text/html": [
       "<div>\n",
       "<style scoped>\n",
       "    .dataframe tbody tr th:only-of-type {\n",
       "        vertical-align: middle;\n",
       "    }\n",
       "\n",
       "    .dataframe tbody tr th {\n",
       "        vertical-align: top;\n",
       "    }\n",
       "\n",
       "    .dataframe thead th {\n",
       "        text-align: right;\n",
       "    }\n",
       "</style>\n",
       "<table border=\"1\" class=\"dataframe\">\n",
       "  <thead>\n",
       "    <tr style=\"text-align: right;\">\n",
       "      <th></th>\n",
       "      <th>public_metrics</th>\n",
       "      <th>author_id</th>\n",
       "      <th>id</th>\n",
       "      <th>lang</th>\n",
       "      <th>created_at</th>\n",
       "      <th>edit_history_tweet_ids</th>\n",
       "      <th>text</th>\n",
       "      <th>retweets</th>\n",
       "      <th>replies</th>\n",
       "      <th>likes</th>\n",
       "      <th>quotes</th>\n",
       "      <th>retweet_count</th>\n",
       "      <th>reply_count</th>\n",
       "      <th>like_count</th>\n",
       "      <th>quote_count</th>\n",
       "    </tr>\n",
       "  </thead>\n",
       "  <tbody>\n",
       "    <tr>\n",
       "      <th>0</th>\n",
       "      <td>{'retweet_count': 0, 'reply_count': 0, 'like_c...</td>\n",
       "      <td>1194477339452858368</td>\n",
       "      <td>1585019041970016256</td>\n",
       "      <td>en</td>\n",
       "      <td>2022-10-25T21:22:42.000Z</td>\n",
       "      <td>[1585019041970016256]</td>\n",
       "      <td>Look like ill be starting Gotham Knights as Ni...</td>\n",
       "      <td>0</td>\n",
       "      <td>0</td>\n",
       "      <td>0</td>\n",
       "      <td>0</td>\n",
       "      <td>0</td>\n",
       "      <td>0</td>\n",
       "      <td>0</td>\n",
       "      <td>0</td>\n",
       "    </tr>\n",
       "    <tr>\n",
       "      <th>1</th>\n",
       "      <td>{'retweet_count': 0, 'reply_count': 0, 'like_c...</td>\n",
       "      <td>156309286</td>\n",
       "      <td>1585019000828100609</td>\n",
       "      <td>en</td>\n",
       "      <td>2022-10-25T21:22:32.000Z</td>\n",
       "      <td>[1585019000828100609]</td>\n",
       "      <td>Gotham Knights really makes you FEEL like you'...</td>\n",
       "      <td>0</td>\n",
       "      <td>0</td>\n",
       "      <td>1</td>\n",
       "      <td>0</td>\n",
       "      <td>0</td>\n",
       "      <td>0</td>\n",
       "      <td>1</td>\n",
       "      <td>0</td>\n",
       "    </tr>\n",
       "    <tr>\n",
       "      <th>2</th>\n",
       "      <td>{'retweet_count': 0, 'reply_count': 0, 'like_c...</td>\n",
       "      <td>1155613652566720512</td>\n",
       "      <td>1585018546584780801</td>\n",
       "      <td>en</td>\n",
       "      <td>2022-10-25T21:20:44.000Z</td>\n",
       "      <td>[1585018546584780801]</td>\n",
       "      <td>GOTHAM KNIGHTS Walkthrough Gameplay Part 4 - B...</td>\n",
       "      <td>0</td>\n",
       "      <td>0</td>\n",
       "      <td>1</td>\n",
       "      <td>0</td>\n",
       "      <td>0</td>\n",
       "      <td>0</td>\n",
       "      <td>1</td>\n",
       "      <td>0</td>\n",
       "    </tr>\n",
       "    <tr>\n",
       "      <th>3</th>\n",
       "      <td>{'retweet_count': 0, 'reply_count': 1, 'like_c...</td>\n",
       "      <td>1388118760771526656</td>\n",
       "      <td>1585017811755499521</td>\n",
       "      <td>en</td>\n",
       "      <td>2022-10-25T21:17:49.000Z</td>\n",
       "      <td>[1585017811755499521]</td>\n",
       "      <td>Jason's default attire/New Guard suit in Gotha...</td>\n",
       "      <td>0</td>\n",
       "      <td>1</td>\n",
       "      <td>0</td>\n",
       "      <td>0</td>\n",
       "      <td>0</td>\n",
       "      <td>1</td>\n",
       "      <td>0</td>\n",
       "      <td>0</td>\n",
       "    </tr>\n",
       "    <tr>\n",
       "      <th>4</th>\n",
       "      <td>{'retweet_count': 0, 'reply_count': 0, 'like_c...</td>\n",
       "      <td>2816453508</td>\n",
       "      <td>1585017275815694336</td>\n",
       "      <td>en</td>\n",
       "      <td>2022-10-25T21:15:41.000Z</td>\n",
       "      <td>[1585017275815694336]</td>\n",
       "      <td>Playing as Nightwing in Gotham Knights!! \\n#Ni...</td>\n",
       "      <td>0</td>\n",
       "      <td>0</td>\n",
       "      <td>0</td>\n",
       "      <td>0</td>\n",
       "      <td>0</td>\n",
       "      <td>0</td>\n",
       "      <td>0</td>\n",
       "      <td>0</td>\n",
       "    </tr>\n",
       "  </tbody>\n",
       "</table>\n",
       "</div>"
      ],
      "text/plain": [
       "                                      public_metrics            author_id  \\\n",
       "0  {'retweet_count': 0, 'reply_count': 0, 'like_c...  1194477339452858368   \n",
       "1  {'retweet_count': 0, 'reply_count': 0, 'like_c...            156309286   \n",
       "2  {'retweet_count': 0, 'reply_count': 0, 'like_c...  1155613652566720512   \n",
       "3  {'retweet_count': 0, 'reply_count': 1, 'like_c...  1388118760771526656   \n",
       "4  {'retweet_count': 0, 'reply_count': 0, 'like_c...           2816453508   \n",
       "\n",
       "                    id lang                created_at edit_history_tweet_ids  \\\n",
       "0  1585019041970016256   en  2022-10-25T21:22:42.000Z  [1585019041970016256]   \n",
       "1  1585019000828100609   en  2022-10-25T21:22:32.000Z  [1585019000828100609]   \n",
       "2  1585018546584780801   en  2022-10-25T21:20:44.000Z  [1585018546584780801]   \n",
       "3  1585017811755499521   en  2022-10-25T21:17:49.000Z  [1585017811755499521]   \n",
       "4  1585017275815694336   en  2022-10-25T21:15:41.000Z  [1585017275815694336]   \n",
       "\n",
       "                                                text  retweets  replies  \\\n",
       "0  Look like ill be starting Gotham Knights as Ni...         0        0   \n",
       "1  Gotham Knights really makes you FEEL like you'...         0        0   \n",
       "2  GOTHAM KNIGHTS Walkthrough Gameplay Part 4 - B...         0        0   \n",
       "3  Jason's default attire/New Guard suit in Gotha...         0        1   \n",
       "4  Playing as Nightwing in Gotham Knights!! \\n#Ni...         0        0   \n",
       "\n",
       "   likes  quotes  retweet_count  reply_count  like_count  quote_count  \n",
       "0      0       0              0            0           0            0  \n",
       "1      1       0              0            0           1            0  \n",
       "2      1       0              0            0           1            0  \n",
       "3      0       0              0            1           0            0  \n",
       "4      0       0              0            0           0            0  "
      ]
     },
     "execution_count": 344,
     "metadata": {},
     "output_type": "execute_result"
    }
   ],
   "source": [
    "response_df2.head()"
   ]
  },
  {
   "cell_type": "markdown",
   "id": "0bc0910e",
   "metadata": {},
   "source": [
    "<span style =\"font-family:Optima\">The combination was successful. But how is this not the final table if all the categories wanted are in the table? Well remember when I wrote response_dict.keys()? There were two categories, 'data' and 'meta', I've been only working with 'data'. So now its time to work with 'meta' and combine the previous 'data' work.</span> "
   ]
  },
  {
   "cell_type": "code",
   "execution_count": 261,
   "id": "86cc5e84",
   "metadata": {},
   "outputs": [
    {
     "data": {
      "text/plain": [
       "'b26v89c19zqg8o3fpzel4w5yv5gw1n6zggrlh68cs2np9'"
      ]
     },
     "execution_count": 261,
     "metadata": {},
     "output_type": "execute_result"
    }
   ],
   "source": [
    "response_dict['meta']['next_token']"
   ]
  },
  {
   "cell_type": "code",
   "execution_count": 262,
   "id": "6690a638",
   "metadata": {},
   "outputs": [],
   "source": [
    "next_query_url = query_url + \"&next_token={}\".format(response_dict['meta']['next_token'])"
   ]
  },
  {
   "cell_type": "code",
   "execution_count": 263,
   "id": "1c2d4c9e",
   "metadata": {},
   "outputs": [],
   "source": [
    "next_response = requests.get(next_query_url, headers = header)"
   ]
  },
  {
   "cell_type": "code",
   "execution_count": 264,
   "id": "08a15227",
   "metadata": {},
   "outputs": [
    {
     "data": {
      "text/plain": [
       "200"
      ]
     },
     "execution_count": 264,
     "metadata": {},
     "output_type": "execute_result"
    }
   ],
   "source": [
    "next_response.status_code"
   ]
  },
  {
   "cell_type": "markdown",
   "id": "66b3b385",
   "metadata": {},
   "source": [
    "<span style =\"font-family:Optima\">Similar to how data was collected from the API, a few new variables need to be created to get the meta data. The response_dict['meta']['next_token'] gives a new beaer token that allows access to the meta data. And through the creation of variables next_query_url and next_response, meta text data can now being requested.</span>"
   ]
  },
  {
   "cell_type": "code",
   "execution_count": 265,
   "id": "6ccdd864",
   "metadata": {
    "scrolled": false
   },
   "outputs": [
    {
     "data": {
      "text/plain": [
       "'{\"data\":[{\"author_id\":\"989985687066894336\",\"lang\":\"en\",\"id\":\"1584957219828744194\",\"edit_history_tweet_ids\":[\"1584957219828744194\"],\"text\":\"@Earth_928_2099 Gotham Knights Jason most accurate, if you like another one more that\\'s fine, but if you disagree, you\\'ve never read a Red Hood comic outside of Batman Under the Hood.\",\"created_at\":\"2022-10-25T17:17:02.000Z\",\"public_metrics\":{\"retweet_count\":0,\"reply_count\":1,\"like_count\":8,\"quote_count\":0}},{\"author_id\":\"6703212\",\"lang\":\"en\",\"id\":\"1584957148693467148\",\"edit_history_tweet_ids\":[\"1584957148693467148\"],\"text\":\"GeekDad: Review - Batman Gotham Knights: Gilded City #1 - The First Bat\\\\nhttps://t.co/rut4AIR3gL https://t.co/UIvpgSsNzH\",\"created_at\":\"2022-10-25T17:16:45.000Z\",\"public_metrics\":{\"retweet_count\":0,\"reply_count\":0,\"like_count\":0,\"quote_count\":0}},{\"author_id\":\"1483895435647496200\",\"lang\":\"en\",\"id\":\"1584955849025654785\",\"edit_history_tweet_ids\":[\"1584955849025654785\"],\"text\":\"@Earth_928_2099 ok hear me out arkham knights wasn’t handled incredibly but that scene at the ending where jason comes back to help bruce escape was pretty cool and i feel like there was potential there for a good red hood story plus he looked like jason unlike gotham knights \\\\uD83D\\\\uDC80\",\"created_at\":\"2022-10-25T17:11:36.000Z\",\"public_metrics\":{\"retweet_count\":0,\"reply_count\":1,\"like_count\":1,\"quote_count\":0}},{\"author_id\":\"18175886\",\"lang\":\"en\",\"id\":\"1584954644895342593\",\"edit_history_tweet_ids\":[\"1584954644895342593\"],\"text\":\"Review - Batman Gotham Knights: Gilded City #1 - The First Bat\\\\nLink: https://t.co/sdQ7hTySkI\",\"created_at\":\"2022-10-25T17:06:49.000Z\",\"public_metrics\":{\"retweet_count\":0,\"reply_count\":0,\"like_count\":0,\"quote_count\":0}},{\"author_id\":\"1133052286245265411\",\"lang\":\"en\",\"id\":\"1584954452486025216\",\"edit_history_tweet_ids\":[\"1584954452486025216\"],\"text\":\"@previaxd Gotham Knights ps5\",\"created_at\":\"2022-10-25T17:06:03.000Z\",\"public_metrics\":{\"retweet_count\":0,\"reply_count\":0,\"like_count\":0,\"quote_count\":0}},{\"author_id\":\"1014524186314694656\",\"lang\":\"en\",\"id\":\"1584953938377199621\",\"edit_history_tweet_ids\":[\"1584953938377199621\"],\"text\":\"Gotham Knights Co-Op The Elusive Nightwing https://t.co/yQgI3pNehO via @YouTube\",\"created_at\":\"2022-10-25T17:04:00.000Z\",\"public_metrics\":{\"retweet_count\":0,\"reply_count\":1,\"like_count\":0,\"quote_count\":0}},{\"author_id\":\"1210668516870897664\",\"lang\":\"en\",\"id\":\"1584953925714980865\",\"edit_history_tweet_ids\":[\"1584953925714980865\"],\"text\":\"(SBD)  Gotham knights - batman girl  gameplay 5   (Ps5   ) https://t.co/5VHOMWZ5Uh\",\"created_at\":\"2022-10-25T17:03:57.000Z\",\"public_metrics\":{\"retweet_count\":0,\"reply_count\":0,\"like_count\":0,\"quote_count\":0}},{\"author_id\":\"1555962195154010113\",\"lang\":\"en\",\"id\":\"1584953885499674624\",\"edit_history_tweet_ids\":[\"1584953885499674624\"],\"text\":\"@MarcinIsHere Gotham knights is very CPU limited on top of that gotham knights doesn\\'t utilize GPU 100% i would say consoles have equivalent CPu to ryzen 5 3600X which was the minim CPU spec for gotham knights in plague tale PS5 XSX GPU can\\'t handle game great video https://t.co/U4XnHu9iLV\",\"created_at\":\"2022-10-25T17:03:47.000Z\",\"public_metrics\":{\"retweet_count\":0,\"reply_count\":0,\"like_count\":0,\"quote_count\":0}},{\"author_id\":\"1321425290418180096\",\"lang\":\"en\",\"id\":\"1584953361266155520\",\"edit_history_tweet_ids\":[\"1584953361266155520\"],\"text\":\"[PS5] \\\\uD83D\\\\uDC51 Endgame Max Level Grind \\\\uD83D\\\\uDC51 |  Road to 2K\\\\n\\\\nGame: Gotham Knights\\\\n\\\\n\\\\uD83D\\\\uDD34https://t.co/wfxEv1Z9e4\\\\n\\\\uD83D\\\\uDD34https://t.co/wfxEv1Z9e4\\\\n\\\\uD83D\\\\uDD34https://t.co/wfxEv1Z9e4\\\\n\\\\n#Twitch #Live #PS5 #Gaming #GothamKnights  #Endgame https://t.co/HNHpi4yeHK\",\"created_at\":\"2022-10-25T17:01:42.000Z\",\"public_metrics\":{\"retweet_count\":2,\"reply_count\":0,\"like_count\":4,\"quote_count\":0}},{\"author_id\":\"711630347977433088\",\"lang\":\"en\",\"id\":\"1584953206441852928\",\"edit_history_tweet_ids\":[\"1584953206441852928\"],\"text\":\"BATMAN CAN\\'T BE DEAD! | Gotham Knights #1 https://t.co/TrsRPJiJNB via @YouTube\",\"created_at\":\"2022-10-25T17:01:06.000Z\",\"public_metrics\":{\"retweet_count\":0,\"reply_count\":0,\"like_count\":1,\"quote_count\":0}},{\"author_id\":\"800563578239479808\",\"lang\":\"en\",\"id\":\"1584952646108344320\",\"edit_history_tweet_ids\":[\"1584952646108344320\"],\"text\":\"@dark1x @ReformedPlay3r My verdict: Developers need to git gud at optimization.\\\\n\\\\nEven powerful hardware cannot exceed expectations when the game itself is not well optimized. \\\\n\\\\n2 big Examples of bad optimization on PS5/Xbox Series X:\\\\n\\\\nGotham Knights\\\\n\\\\nGrand Theft Auto: The Trilogy: Definitive Edition\",\"created_at\":\"2022-10-25T16:58:52.000Z\",\"public_metrics\":{\"retweet_count\":0,\"reply_count\":0,\"like_count\":0,\"quote_count\":0}},{\"author_id\":\"1564603890628284418\",\"lang\":\"en\",\"id\":\"1584952582140620800\",\"edit_history_tweet_ids\":[\"1584952582140620800\"],\"text\":\"Gotham Knights having Barbara sitting in a wheelchair is CRUEL /\\\\nThey knew they fucked up by making her Batgirl again /\",\"created_at\":\"2022-10-25T16:58:37.000Z\",\"public_metrics\":{\"retweet_count\":0,\"reply_count\":0,\"like_count\":0,\"quote_count\":0}},{\"author_id\":\"1582338484051726337\",\"lang\":\"en\",\"id\":\"1584951997010415616\",\"edit_history_tweet_ids\":[\"1584951997010415616\"],\"text\":\"#otaku update: Gotham Knights: Alfred Basically Becomes Batman to the Bat Family https://t.co/VSYCQFxWrT\\\\n\\\\n#anime #comic #movie #game #otakupages https://t.co/dXMp9c0YNA\",\"created_at\":\"2022-10-25T16:56:17.000Z\",\"public_metrics\":{\"retweet_count\":0,\"reply_count\":0,\"like_count\":0,\"quote_count\":0}},{\"author_id\":\"912026653144047616\",\"lang\":\"en\",\"id\":\"1584951763689512964\",\"edit_history_tweet_ids\":[\"1584951763689512964\"],\"text\":\"Gotham Knights\\\\nNot On My Watch (SILVER)\\\\n#PlayStationTrophy #PS5Share, #GothamKnights red hood says bye https://t.co/y1pCTrPYtP\",\"created_at\":\"2022-10-25T16:55:22.000Z\",\"public_metrics\":{\"retweet_count\":0,\"reply_count\":0,\"like_count\":2,\"quote_count\":0}},{\"author_id\":\"895009221691023360\",\"lang\":\"en\",\"id\":\"1584950835196280833\",\"edit_history_tweet_ids\":[\"1584950835196280833\"],\"text\":\"Anybody got Gotham Knights on PS5?\",\"created_at\":\"2022-10-25T16:51:40.000Z\",\"public_metrics\":{\"retweet_count\":0,\"reply_count\":1,\"like_count\":0,\"quote_count\":0}},{\"author_id\":\"1230203647713271810\",\"lang\":\"en\",\"id\":\"1584950721065418752\",\"edit_history_tweet_ids\":[\"1584950721065418752\"],\"text\":\"I think they fixed Gotham Knights and gave Nightwing his canonical fat ass back \\\\uD83D\\\\uDE0C\",\"created_at\":\"2022-10-25T16:51:13.000Z\",\"public_metrics\":{\"retweet_count\":0,\"reply_count\":0,\"like_count\":4,\"quote_count\":0}},{\"author_id\":\"1210668516870897664\",\"lang\":\"en\",\"id\":\"1584949832988651521\",\"edit_history_tweet_ids\":[\"1584949832988651521\"],\"text\":\"(SBD)  Gotham knights - batman girl  gameplay 5   (Ps5   ) https://t.co/26gDwYDRy4\",\"created_at\":\"2022-10-25T16:47:41.000Z\",\"public_metrics\":{\"retweet_count\":0,\"reply_count\":0,\"like_count\":0,\"quote_count\":0}},{\"author_id\":\"594594161\",\"lang\":\"en\",\"id\":\"1584949669515661312\",\"edit_history_tweet_ids\":[\"1584949669515661312\"],\"text\":\"Take on the life of Batman, as a new Gotham Knights mod surfaces that allows players to replace the base Nightwing gear set with Batman\\'s. https://t.co/GrF4llNFAo\",\"created_at\":\"2022-10-25T16:47:02.000Z\",\"public_metrics\":{\"retweet_count\":0,\"reply_count\":0,\"like_count\":0,\"quote_count\":0}},{\"author_id\":\"1337703395260510210\",\"lang\":\"en\",\"id\":\"1584948729517416448\",\"edit_history_tweet_ids\":[\"1584948729517416448\"],\"text\":\"Gotham Knights\\\\nBulldozed (BRONZE)\\\\nThat moment was too nice to not recoed!\\\\n#GothamKnights #Robin #PlaystationTrophy https://t.co/reCYRXEhc5\",\"created_at\":\"2022-10-25T16:43:18.000Z\",\"public_metrics\":{\"retweet_count\":0,\"reply_count\":0,\"like_count\":0,\"quote_count\":0}},{\"author_id\":\"957954270711746560\",\"lang\":\"en\",\"id\":\"1584946792118222848\",\"edit_history_tweet_ids\":[\"1584946792118222848\"],\"text\":\"\\\\uD83D\\\\uDC7E Amazon, Gotham Knights (PS5), 55,97€.\\\\n• https://t.co/gjMya2OiLK\\\\n\\\\n\\\\uD83C\\\\uDFAE Amazon, Life is Strange: True Colors (One/Series), 19,99€.\\\\n• https://t.co/lCSYGvbDjC\\\\n\\\\n#one #series #ps5 https://t.co/Q4IoLuHvk2\",\"created_at\":\"2022-10-25T16:35:36.000Z\",\"public_metrics\":{\"retweet_count\":0,\"reply_count\":0,\"like_count\":0,\"quote_count\":0}},{\"author_id\":\"789837895255416836\",\"lang\":\"en\",\"id\":\"1584945870910681088\",\"edit_history_tweet_ids\":[\"1584945870910681088\"],\"text\":\"@Guslivesagain Random Ik but Gotham knights calling the batfam the “Batman family” is so ass\\\\uD83D\\\\uDE2D like just say batfamily it’s way less of a mouthful and rolls off the tongue better\",\"created_at\":\"2022-10-25T16:31:57.000Z\",\"public_metrics\":{\"retweet_count\":0,\"reply_count\":0,\"like_count\":0,\"quote_count\":0}},{\"author_id\":\"2582485399\",\"lang\":\"en\",\"id\":\"1584945677490327552\",\"edit_history_tweet_ids\":[\"1584945677490327552\"],\"text\":\"GOTHAM KNIGHTS PS5 Gameplay Walkthrough Part 5 - HARLEY QUINN (4K 60FPS)... https://t.co/41UHWsUtpJ via @YouTube\",\"created_at\":\"2022-10-25T16:31:11.000Z\",\"public_metrics\":{\"retweet_count\":0,\"reply_count\":0,\"like_count\":1,\"quote_count\":0}},{\"author_id\":\"1453014646705860631\",\"lang\":\"en\",\"id\":\"1584945664667963399\",\"edit_history_tweet_ids\":[\"1584945664667963399\"],\"text\":\"Gotham Knights has this super cringy piece of flavor text in the form of an email from Barbra to (in my play through) Red Hood. The email is about how they\\'re all going to a pride parade and how they\\'re gonna make rainbow versions of their costumes.\\\\n\\\\nThis is days after Bruce...\",\"created_at\":\"2022-10-25T16:31:07.000Z\",\"public_metrics\":{\"retweet_count\":0,\"reply_count\":1,\"like_count\":1,\"quote_count\":0}},{\"author_id\":\"1160490164076077056\",\"lang\":\"en\",\"id\":\"1584944864718123008\",\"edit_history_tweet_ids\":[\"1584944864718123008\"],\"text\":\"Gotham Knights #PlayStation5 - Part 5\\\\n\\\\nNote: No capture card was used, uploaded straight from the #PS5 to #YouTube.\\\\n\\\\nVideo link: \\\\nhttps://t.co/kejmSv9M5v\\\\n\\\\n#GothamKnights #Batman #Robin #Batgirl #RedHood #Nightwing #HarleyQuinn #ThePenguin  #TheJoker #DC #DCComics #MrFreeze https://t.co/kA61VUTGmx\",\"created_at\":\"2022-10-25T16:27:57.000Z\",\"public_metrics\":{\"retweet_count\":0,\"reply_count\":0,\"like_count\":1,\"quote_count\":0}},{\"author_id\":\"965066991005552646\",\"lang\":\"en\",\"id\":\"1584944656173133824\",\"edit_history_tweet_ids\":[\"1584944656173133824\"],\"text\":\"Like that Gotham Knights has effectively caught how to write some genuinely funny parodies of news article op eds. Got snippets only but a GCNN op ed arguing Gotham needs its supervillains for the economy or that Batman is the real villain because punching villains is (1)\",\"created_at\":\"2022-10-25T16:27:07.000Z\",\"public_metrics\":{\"retweet_count\":0,\"reply_count\":1,\"like_count\":0,\"quote_count\":0}},{\"author_id\":\"729780420879994885\",\"lang\":\"en\",\"id\":\"1584944554800599040\",\"edit_history_tweet_ids\":[\"1584944554800599040\"],\"text\":\"i want buy gotham knights game even though i heard it\\'s kind of bad because i want to seem my little friends, robin, nightwing, batgirl, and red hood in  video game\",\"created_at\":\"2022-10-25T16:26:43.000Z\",\"public_metrics\":{\"retweet_count\":0,\"reply_count\":0,\"like_count\":1,\"quote_count\":0}},{\"author_id\":\"788030279118098440\",\"lang\":\"en\",\"id\":\"1584944200197570568\",\"edit_history_tweet_ids\":[\"1584944200197570568\"],\"text\":\"Check out Gotham Knights: A World without Batman! Type !discord https://t.co/UmfsvKvBS6 #Waveformgaming #Streamcaster \\u2066@sme_rt\\u2069 \\u2066@SGH_RTs\\u2069 \\u2066@BlazedRTs\\u2069 \\u2066@GWILD_RT\\u2069 #gothamknights #Twitchstreamer #Twitchstreamers \\u2066@Retweelgend\\u2069 #Twitchsharer\",\"created_at\":\"2022-10-25T16:25:18.000Z\",\"public_metrics\":{\"retweet_count\":8,\"reply_count\":0,\"like_count\":6,\"quote_count\":0}},{\"author_id\":\"15165643\",\"lang\":\"en\",\"id\":\"1584943886174244865\",\"edit_history_tweet_ids\":[\"1584943886174244865\"],\"text\":\"Review - Batman Gotham Knights: Gilded City #1 - The First Bat\\\\nhttps://t.co/mS3EqqDmzh\",\"created_at\":\"2022-10-25T16:24:03.000Z\",\"public_metrics\":{\"retweet_count\":0,\"reply_count\":0,\"like_count\":0,\"quote_count\":0}},{\"author_id\":\"1219927110225203200\",\"lang\":\"en\",\"id\":\"1584943469667454976\",\"edit_history_tweet_ids\":[\"1584943469667454976\"],\"text\":\"I finished gotham knights and started NG+ and I\\'m still only playing Red Hood \\\\uD83E\\\\uDD2D\\\\uD83E\\\\uDD2D\\\\uD83E\\\\uDD2D\",\"created_at\":\"2022-10-25T16:22:24.000Z\",\"public_metrics\":{\"retweet_count\":0,\"reply_count\":0,\"like_count\":0,\"quote_count\":0}},{\"author_id\":\"1010994091516035072\",\"lang\":\"en\",\"id\":\"1584943209192378378\",\"edit_history_tweet_ids\":[\"1584943209192378378\"],\"text\":\"@IrogenYT I want more villains to appear in Gotham Knights DLC. \\\\uD83D\\\\uDE42\\\\n\\\\nAs for a traditional Arkham game, want a sequel to Origins leading up to the events of Asylum. Showing the rise of other villains in the Arkhamverse &amp; the creation of the Batfamily starting with young Barbara Gordon. \\\\uD83E\\\\uDD87\\\\uD83D\\\\uDE0E\",\"created_at\":\"2022-10-25T16:21:22.000Z\",\"public_metrics\":{\"retweet_count\":0,\"reply_count\":0,\"like_count\":0,\"quote_count\":0}},{\"author_id\":\"6703212\",\"lang\":\"en\",\"id\":\"1584943132227112960\",\"edit_history_tweet_ids\":[\"1584943132227112960\"],\"text\":\"Review - Batman Gotham Knights: Gilded City #1 - The First Bat\\\\nhttps://t.co/rut4AIR3gL\",\"created_at\":\"2022-10-25T16:21:04.000Z\",\"public_metrics\":{\"retweet_count\":0,\"reply_count\":0,\"like_count\":0,\"quote_count\":0}},{\"author_id\":\"1428189140441575429\",\"lang\":\"en\",\"id\":\"1584942565387689986\",\"edit_history_tweet_ids\":[\"1584942565387689986\"],\"text\":\"~Spoiler video~\\\\nA snippet of Emily O’Brien voicing Talia al Ghul in the new Gotham Knights video game available now for Xbox (S/X), PlayStation (5), Steam, &amp; windows out now. #GothamKnights https://t.co/Fj8nibXe5w\",\"created_at\":\"2022-10-25T16:18:49.000Z\",\"public_metrics\":{\"retweet_count\":0,\"reply_count\":1,\"like_count\":2,\"quote_count\":1}},{\"author_id\":\"118607021\",\"lang\":\"en\",\"id\":\"1584942444252397568\",\"edit_history_tweet_ids\":[\"1584942444252397568\"],\"text\":\"You know why Batman sacrifices himself at the end of Gotham Knights?\\\\n\\\\nBecause he knows there will not be a sequel.\\\\n#GothamKnights\",\"created_at\":\"2022-10-25T16:18:20.000Z\",\"public_metrics\":{\"retweet_count\":0,\"reply_count\":0,\"like_count\":0,\"quote_count\":0}},{\"author_id\":\"635423\",\"lang\":\"en\",\"id\":\"1584942034615693312\",\"edit_history_tweet_ids\":[\"1584942034615693312\"],\"text\":\"Really enjoying Gotham Knights and the photo mode is super fun too! #GothamKnights  #Batgirl https://t.co/78DzQYNWjW\",\"created_at\":\"2022-10-25T16:16:42.000Z\",\"public_metrics\":{\"retweet_count\":0,\"reply_count\":0,\"like_count\":1,\"quote_count\":0}},{\"author_id\":\"1285593271138492416\",\"lang\":\"en\",\"id\":\"1584939975656853507\",\"edit_history_tweet_ids\":[\"1584939975656853507\"],\"text\":\"Gotham Knights Standard Edition – PlayStation 5 [Amazon Exclusive]\\\\n is 59.99 USD (14% off)\\\\n https://t.co/X19CxmWWKD \\\\n  ⭐ SmartCoolDeals,com ⭐ https://t.co/2FcOqHe739\",\"created_at\":\"2022-10-25T16:08:31.000Z\",\"public_metrics\":{\"retweet_count\":0,\"reply_count\":0,\"like_count\":0,\"quote_count\":0}},{\"author_id\":\"1106023503252389890\",\"lang\":\"en\",\"id\":\"1584939876751151106\",\"edit_history_tweet_ids\":[\"1584939876751151106\"],\"text\":\"@ragincrinz @JonxIam @JakX62 @ptouss6115 @IGN Lol Besides Gotham Knights there is no Ps5 game which doesn\\'t run at 60-120FPS\",\"created_at\":\"2022-10-25T16:08:08.000Z\",\"public_metrics\":{\"retweet_count\":0,\"reply_count\":0,\"like_count\":0,\"quote_count\":0}},{\"author_id\":\"159190716\",\"lang\":\"en\",\"id\":\"1584939630222348296\",\"edit_history_tweet_ids\":[\"1584939630222348296\"],\"text\":\"Review - Batman Gotham Knights: Gilded City #1 - The First Bat - https://t.co/ghAVKfKNRl\",\"created_at\":\"2022-10-25T16:07:09.000Z\",\"public_metrics\":{\"retweet_count\":0,\"reply_count\":0,\"like_count\":0,\"quote_count\":0}},{\"author_id\":\"1321062429015437315\",\"lang\":\"en\",\"id\":\"1584938581109637125\",\"edit_history_tweet_ids\":[\"1584938581109637125\"],\"text\":\"*call me by your name plays in the bg*\\\\n\\\\nRao pls forgive me, I have fallen into temptation-- \\\\n\\\\nHave Bruce Wayne poledancing, inspired by that scene in Gotham Knights \\\\uD83D\\\\uDC95 https://t.co/vnpPEMqShn\",\"created_at\":\"2022-10-25T16:02:59.000Z\",\"public_metrics\":{\"retweet_count\":2,\"reply_count\":2,\"like_count\":8,\"quote_count\":0}},{\"author_id\":\"947682835141484544\",\"lang\":\"en\",\"id\":\"1584938475538751488\",\"edit_history_tweet_ids\":[\"1584938475538751488\"],\"text\":\"RavenBlack71 played Gotham Knights (PS5) in the last 24 hours https://t.co/aEKUhzLATQ #exophase\",\"created_at\":\"2022-10-25T16:02:33.000Z\",\"public_metrics\":{\"retweet_count\":0,\"reply_count\":0,\"like_count\":0,\"quote_count\":0}},{\"author_id\":\"747976695618035712\",\"lang\":\"en\",\"id\":\"1584938458308808704\",\"edit_history_tweet_ids\":[\"1584938458308808704\"],\"text\":\"I normally would not have read #Batman Gotham Knights Gilded City but plan on picking up this mini-series.   The introduction of a new vigilante called The Runway in 1847 Gotham has me intrigued. https://t.co/Tn5EtRlscg\",\"created_at\":\"2022-10-25T16:02:29.000Z\",\"public_metrics\":{\"retweet_count\":0,\"reply_count\":0,\"like_count\":0,\"quote_count\":0}},{\"author_id\":\"848405135424331776\",\"lang\":\"en\",\"id\":\"1584938385944514560\",\"edit_history_tweet_ids\":[\"1584938385944514560\"],\"text\":\"Come and watch the first part of a brand new lets play Gotham Knights \\\\n\\\\n\\\\uD83D\\\\uDCFA:https://t.co/TqvOkYlMwV via @YouTube @YouTubeGaming \\\\n\\\\n#GothamKnights  #batman #PS5Share #ps5 #gamingcommunity #gaming #Letsplay #BatmanGothamKnights https://t.co/yefn9Koe2n\",\"created_at\":\"2022-10-25T16:02:12.000Z\",\"public_metrics\":{\"retweet_count\":0,\"reply_count\":0,\"like_count\":0,\"quote_count\":0}},{\"author_id\":\"1116057872792739841\",\"lang\":\"en\",\"id\":\"1584937832413417472\",\"edit_history_tweet_ids\":[\"1584937832413417472\"],\"text\":\"Got to play a little bit of Gotham Knights and it\\'s pretty fun, just different from the Arkham games, which makes sense cause it\\'s a different universe, I thought I\\'d hate red hood but bro was my favourite.\",\"created_at\":\"2022-10-25T16:00:00.000Z\",\"public_metrics\":{\"retweet_count\":0,\"reply_count\":0,\"like_count\":1,\"quote_count\":0}},{\"author_id\":\"418115121\",\"lang\":\"en\",\"id\":\"1584937810339192833\",\"edit_history_tweet_ids\":[\"1584937810339192833\"],\"text\":\"As someone who currently owns an Xbox Series S along with a PS4/PS5. I’m not entirely sure why the creators of Gotham Knights? Feel as though the older consoles are holding them back from great graphics on both the Xbox Series X and PS5??? lol\",\"created_at\":\"2022-10-25T15:59:55.000Z\",\"public_metrics\":{\"retweet_count\":0,\"reply_count\":0,\"like_count\":0,\"quote_count\":0}},{\"author_id\":\"1428120132837126147\",\"lang\":\"en\",\"id\":\"1584937780903223296\",\"edit_history_tweet_ids\":[\"1584937780903223296\"],\"text\":\"why they give batgirl allat ass in gotham knights\\\\uD83D\\\\uDE2D\",\"created_at\":\"2022-10-25T15:59:48.000Z\",\"public_metrics\":{\"retweet_count\":0,\"reply_count\":0,\"like_count\":0,\"quote_count\":0}},{\"author_id\":\"1571358372770861057\",\"lang\":\"en\",\"id\":\"1584937343609237504\",\"edit_history_tweet_ids\":[\"1584937343609237504\"],\"text\":\"@ragincrinz @JonxIam @JakX62 @ptouss6115 @IGN Because it would take forever to list them all, why don\\'t you show me a AAA title on PS5 other than Gotham Knights that can\\'t hit 60.\",\"created_at\":\"2022-10-25T15:58:04.000Z\",\"public_metrics\":{\"retweet_count\":0,\"reply_count\":2,\"like_count\":0,\"quote_count\":0}},{\"author_id\":\"832256897709400070\",\"lang\":\"en\",\"id\":\"1584937195873656835\",\"edit_history_tweet_ids\":[\"1584937195873656835\"],\"text\":\"@joecolon75 Hi there Joe! Gotham Knights is available for PlayStation 5, Xbox Series X|S consoles and PC. With that said, the game is not available for PlayStation 4 or Xbox One consoles. Also, be sure to check out our support page at the following link: https://t.co/7iNa3N05BH. Thanks!\",\"created_at\":\"2022-10-25T15:57:28.000Z\",\"public_metrics\":{\"retweet_count\":0,\"reply_count\":0,\"like_count\":0,\"quote_count\":0}},{\"author_id\":\"75749044\",\"lang\":\"en\",\"id\":\"1584935867977674752\",\"edit_history_tweet_ids\":[\"1584935867977674752\"],\"text\":\"@SmilieVyrie and I getting ready to avenge Batman in Gotham Knights https://t.co/PGGSoumXmz\",\"created_at\":\"2022-10-25T15:52:12.000Z\",\"public_metrics\":{\"retweet_count\":1,\"reply_count\":0,\"like_count\":3,\"quote_count\":0}},{\"author_id\":\"944393666797416448\",\"lang\":\"en\",\"id\":\"1584935170876272640\",\"edit_history_tweet_ids\":[\"1584935170876272640\"],\"text\":\"\\\\uD83D\\\\uDD34LIVE - GOTHAM KNIGHTS// OSWALD COBBLEPOT IS NOT PLAYING NICE// PC &amp; PS5 https://t.co/UBYiLabwmE\",\"created_at\":\"2022-10-25T15:49:26.000Z\",\"public_metrics\":{\"retweet_count\":0,\"reply_count\":0,\"like_count\":0,\"quote_count\":0}},{\"author_id\":\"1134830155942236161\",\"lang\":\"en\",\"id\":\"1584934788787744769\",\"edit_history_tweet_ids\":[\"1584934788787744769\"],\"text\":\"When it comes to Gotham Knights or any of the batman games in the franchise IDC for others opinions on the games nothing you say will make sense to me and my logic is undeniable\",\"created_at\":\"2022-10-25T15:47:54.000Z\",\"public_metrics\":{\"retweet_count\":0,\"reply_count\":0,\"like_count\":0,\"quote_count\":0}},{\"author_id\":\"1716574609\",\"lang\":\"en\",\"id\":\"1584933862190338050\",\"edit_history_tweet_ids\":[\"1584933862190338050\"],\"text\":\"Check out our live stream from last night!  Be sure to sub! #gothamknights  Everyone who comments on this video and subs will be entered to win a Bat Family prize that I will announce in this sat stream!\\\\n\\\\nGotham Knights Nightwing and Batgirl Team-up\\\\nhttps://t.co/4wp7MOnsEB\",\"created_at\":\"2022-10-25T15:44:14.000Z\",\"public_metrics\":{\"retweet_count\":0,\"reply_count\":0,\"like_count\":0,\"quote_count\":0}},{\"author_id\":\"365852332\",\"lang\":\"en\",\"id\":\"1584931199025545216\",\"edit_history_tweet_ids\":[\"1584931199025545216\"],\"text\":\"@PlayStation @AskPlayStation if I buy Gotham Knights on PS5 can I use it on PS4????\",\"created_at\":\"2022-10-25T15:33:39.000Z\",\"public_metrics\":{\"retweet_count\":0,\"reply_count\":1,\"like_count\":0,\"quote_count\":0}},{\"author_id\":\"376847587\",\"lang\":\"en\",\"id\":\"1584931036135391232\",\"edit_history_tweet_ids\":[\"1584931036135391232\"],\"text\":\"‘Batman: Gotham Knights – Gilded City’ #1 is easily more than video game fodder\\\\n@EvNarc @abeloverdrive #comics #Batman #GothamKnights @thedcnation #NCBD\\\\nRead @CCoplan\\'s review:\\\\nhttps://t.co/LqE2QUZu9T\",\"created_at\":\"2022-10-25T15:33:00.000Z\",\"public_metrics\":{\"retweet_count\":0,\"reply_count\":0,\"like_count\":2,\"quote_count\":0}},{\"author_id\":\"1414812937882161155\",\"lang\":\"en\",\"id\":\"1584930996318658561\",\"edit_history_tweet_ids\":[\"1584930996318658561\"],\"text\":\"#Halloween Hot Offer Get Upto 60% OFF #GothamKnights #Robin Jacket\\\\n&lt;Click on Link Shop Now&gt;\\\\nhttps://t.co/6kPRYweUyO\\\\n#Halloween2022 #halloweensale #halloweencostume #Men #women #OOTD #style #fashion #outfit #jacket #JohnCarpenter #MichaelMyers #horror #HalloweenEnds #sale #shopnow https://t.co/tiTmM9fBtK\",\"created_at\":\"2022-10-25T15:32:50.000Z\",\"public_metrics\":{\"retweet_count\":0,\"reply_count\":0,\"like_count\":0,\"quote_count\":0}},{\"author_id\":\"7434902\",\"lang\":\"en\",\"id\":\"1584930799509721089\",\"edit_history_tweet_ids\":[\"1584930799509721089\"],\"text\":\"Evan\\'s comic kicks ass -- a great Gotham Knights supporting chapter, and a terrific standalone Batman Family story in its own right. Check out Gilded City ASAP, available now. https://t.co/V1DwTQwgo6\",\"created_at\":\"2022-10-25T15:32:03.000Z\",\"public_metrics\":{\"retweet_count\":0,\"reply_count\":1,\"like_count\":10,\"quote_count\":0}},{\"author_id\":\"49264668\",\"lang\":\"en\",\"id\":\"1584930504817745920\",\"edit_history_tweet_ids\":[\"1584930504817745920\"],\"text\":\"Gotham Knights | Batgirl Day https://t.co/e0iw5immQ4\",\"created_at\":\"2022-10-25T15:30:53.000Z\",\"public_metrics\":{\"retweet_count\":3,\"reply_count\":0,\"like_count\":1,\"quote_count\":0}},{\"author_id\":\"43472455\",\"lang\":\"en\",\"id\":\"1584929993553219585\",\"edit_history_tweet_ids\":[\"1584929993553219585\"],\"text\":\"actually enjoying gotham knights so far. ive only really messed with batgirl. and im badly missing the arkham style combat. they tried to do something different and i respect that but it literally was a perfect combat system. all they had to do was ctrl +c -&gt; ctrl +v\",\"created_at\":\"2022-10-25T15:28:51.000Z\",\"public_metrics\":{\"retweet_count\":0,\"reply_count\":1,\"like_count\":3,\"quote_count\":0}},{\"author_id\":\"1571920971254173697\",\"lang\":\"en\",\"id\":\"1584929482057875458\",\"edit_history_tweet_ids\":[\"1584929482057875458\"],\"text\":\"Gotham Knights: Red Hood Gameplay\\\\nhttps://t.co/gXLAqVMSS6\\\\n#PS5 #GothamKnights\",\"created_at\":\"2022-10-25T15:26:49.000Z\",\"public_metrics\":{\"retweet_count\":0,\"reply_count\":0,\"like_count\":0,\"quote_count\":0}},{\"author_id\":\"21224587\",\"lang\":\"en\",\"id\":\"1584929433038868480\",\"edit_history_tweet_ids\":[\"1584929433038868480\"],\"text\":\"Batman: Gotham Knights - Gilded City #1 comes out today. It\\'s the biggest launch that I\\'ve been involved in and I\\'m still kinda stunned at the scale of it all. Never got sent this many variants or a retail poster before. https://t.co/lR06vWhM9s\",\"created_at\":\"2022-10-25T15:26:38.000Z\",\"public_metrics\":{\"retweet_count\":23,\"reply_count\":9,\"like_count\":144,\"quote_count\":7}},{\"author_id\":\"1571920971254173697\",\"lang\":\"en\",\"id\":\"1584929114527760384\",\"edit_history_tweet_ids\":[\"1584929114527760384\"],\"text\":\"Gotham Knights: Batgirl Gameplay\\\\nhttps://t.co/XnNVlQU4Se\\\\n\\\\n#PS5 #GothamKnights\",\"created_at\":\"2022-10-25T15:25:22.000Z\",\"public_metrics\":{\"retweet_count\":0,\"reply_count\":0,\"like_count\":0,\"quote_count\":0}},{\"author_id\":\"1105960823804121088\",\"lang\":\"en\",\"id\":\"1584929035955867649\",\"edit_history_tweet_ids\":[\"1584929035955867649\"],\"text\":\"Gotham Knights – 2 – \\\\\"Pack up your League and go\\\\\"...IS NOW LIVE!!!\\\\nFINALLY...ITS TIME TO SAVE GOTHAM AS RED HOOD...BTW THIS GAME IS WILD!!!\\\\n\\\\n#Xbox #Twitch #DCComics #YouTube #GothamKnights #GothamKnight #RedHood https://t.co/VVws2GlEb2\",\"created_at\":\"2022-10-25T15:25:03.000Z\",\"public_metrics\":{\"retweet_count\":0,\"reply_count\":0,\"like_count\":3,\"quote_count\":0}},{\"author_id\":\"1294434311962267649\",\"lang\":\"en\",\"id\":\"1584928848818606080\",\"edit_history_tweet_ids\":[\"1584928848818606080\"],\"text\":\"@DaNovaFRFX Ummm actually batman is dead in gotham knights\",\"created_at\":\"2022-10-25T15:24:18.000Z\",\"public_metrics\":{\"retweet_count\":0,\"reply_count\":1,\"like_count\":2,\"quote_count\":0}},{\"author_id\":\"1161772539187802112\",\"lang\":\"en\",\"id\":\"1584928669088493569\",\"edit_history_tweet_ids\":[\"1584928669088493569\"],\"text\":\"Lukewarm take of the day maybe\\\\nGotham Knights is ok\\\\n\\\\nNot perfect\\\\nIt has a bit more problems than it should\\\\n\\\\nI never played the Arkham games but I think it\\'s unfair to write it off just because it\\'s not a continuation of that series\\\\n\\\\nI just like having mindless fun being Red Hood\",\"created_at\":\"2022-10-25T15:23:35.000Z\",\"public_metrics\":{\"retweet_count\":0,\"reply_count\":1,\"like_count\":3,\"quote_count\":0}},{\"author_id\":\"1318259569\",\"lang\":\"en\",\"id\":\"1584928469930061824\",\"edit_history_tweet_ids\":[\"1584928469930061824\"],\"text\":\"Also playing Gotham knights. I thought I’d be playing with Robin and Nightwing. Bat girl so far is my favorite to play with\",\"created_at\":\"2022-10-25T15:22:48.000Z\",\"public_metrics\":{\"retweet_count\":0,\"reply_count\":0,\"like_count\":0,\"quote_count\":0}},{\"author_id\":\"1412398363417452544\",\"lang\":\"en\",\"id\":\"1584927963535101952\",\"edit_history_tweet_ids\":[\"1584927963535101952\"],\"text\":\"Best Buy [$299.99]: Gotham Knights Collector’s Edition (PlayStation 5)\\\\n\\\\n\\\\uD83D\\\\uDECD In store only (locations vary)\\\\n\\\\n\\\\uD83D\\\\uDED2 https://t.co/NtALv3x0on\\\\n\\\\nhttps://t.co/gzaGgCjQDK\\\\n\\\\n ⏰ 10:20:47 #ad\",\"created_at\":\"2022-10-25T15:20:47.000Z\",\"public_metrics\":{\"retweet_count\":1,\"reply_count\":0,\"like_count\":0,\"quote_count\":0}},{\"author_id\":\"763092\",\"lang\":\"en\",\"id\":\"1584926851377471489\",\"edit_history_tweet_ids\":[\"1584926851377471489\"],\"text\":\"@nothe What Batman game? is Gotham Knights out?\",\"created_at\":\"2022-10-25T15:16:22.000Z\",\"public_metrics\":{\"retweet_count\":0,\"reply_count\":1,\"like_count\":1,\"quote_count\":0}},{\"author_id\":\"35341966\",\"lang\":\"en\",\"id\":\"1584926571533455360\",\"edit_history_tweet_ids\":[\"1584926571533455360\"],\"text\":\"Gotham Knights - Batman: Gotham Knights Gilded City #1 Out Today (Code F... https://t.co/p8nefuYdQf #shorts https://t.co/2Pszrcszn5\",\"created_at\":\"2022-10-25T15:15:15.000Z\",\"public_metrics\":{\"retweet_count\":0,\"reply_count\":3,\"like_count\":14,\"quote_count\":0}},{\"author_id\":\"3347105446\",\"lang\":\"en\",\"id\":\"1584926388359901185\",\"edit_history_tweet_ids\":[\"1584926388359901185\"],\"text\":\"Today we have: Action Comics #1048, Batman: Gotham Knights Gilded City #1, Catwoman: Lonely City finale, Sgt Rock vs. Army Of The Dead #2, DC Vs. Vampires #10, Detective Comics #1065, Punchline: The Gotham Game #1, Riddler: Year One #1, Tim Drake Robin #2 and more #DCDay\",\"created_at\":\"2022-10-25T15:14:32.000Z\",\"public_metrics\":{\"retweet_count\":1,\"reply_count\":0,\"like_count\":0,\"quote_count\":0}},{\"author_id\":\"1582338484051726337\",\"lang\":\"en\",\"id\":\"1584926283947204608\",\"edit_history_tweet_ids\":[\"1584926283947204608\"],\"text\":\"#otaku update: The Dark Knight Retires: Gotham Knights and 12 Times Batman Called It Quits https://t.co/z3fpGPYtHX\\\\n\\\\n#anime #comic #movie #game #otakupages https://t.co/3gXvQ4yVrk\",\"created_at\":\"2022-10-25T15:14:07.000Z\",\"public_metrics\":{\"retweet_count\":0,\"reply_count\":0,\"like_count\":0,\"quote_count\":0}},{\"author_id\":\"2508542412\",\"lang\":\"en\",\"id\":\"1584925886037753863\",\"edit_history_tweet_ids\":[\"1584925886037753863\"],\"text\":\"[Color] Batman Vs Crimson Hood Fight Scene 4K ULTRA HD – Gotham Knights https://t.co/sVOrB3djZv #Video #4k #color # https://t.co/VMQfOQ4dpY\",\"created_at\":\"2022-10-25T15:12:32.000Z\",\"public_metrics\":{\"retweet_count\":0,\"reply_count\":0,\"like_count\":0,\"quote_count\":0}},{\"author_id\":\"1560230240508600320\",\"lang\":\"en\",\"id\":\"1584925578008104960\",\"edit_history_tweet_ids\":[\"1584925578008104960\"],\"text\":\"Just dropped that Gotham Knights video with Joker Cosplay on the YT. #GothamKnights #gaming #joker #Batgirl \\\\n\\\\nhttps://t.co/jQPylTRoeJ\",\"created_at\":\"2022-10-25T15:11:18.000Z\",\"public_metrics\":{\"retweet_count\":0,\"reply_count\":1,\"like_count\":1,\"quote_count\":0}},{\"author_id\":\"1501215096793616385\",\"lang\":\"en\",\"id\":\"1584925237506117635\",\"edit_history_tweet_ids\":[\"1584925237506117635\"],\"text\":\"THICK Grayson Meets Batman’s Baby Momma | Gotham Knights Part 2 https://t.co/bA56esIeBv via @YouTube new video #GothamKnights https://t.co/rsz70HTmSB\",\"created_at\":\"2022-10-25T15:09:57.000Z\",\"public_metrics\":{\"retweet_count\":0,\"reply_count\":0,\"like_count\":0,\"quote_count\":0}},{\"author_id\":\"18175886\",\"lang\":\"en\",\"id\":\"1584924844847661056\",\"edit_history_tweet_ids\":[\"1584924844847661056\"],\"text\":\"https://t.co/sdQ7hTySkI\\\\nReview - Batman Gotham Knights: Gilded City #1 - The First Bat\",\"created_at\":\"2022-10-25T15:08:24.000Z\",\"public_metrics\":{\"retweet_count\":0,\"reply_count\":0,\"like_count\":0,\"quote_count\":0}},{\"author_id\":\"981202102583209985\",\"lang\":\"en\",\"id\":\"1584924565301600257\",\"edit_history_tweet_ids\":[\"1584924565301600257\"],\"text\":\"@comiXology Today\\'s iPad Comixology app experience included all downloaded books just randomly being removed on launch and the new issue of Batman: Gotham Knights Gilded City not appearing in the Comixology app even though it will show up in Kindle. https://t.co/6mNcwnnXb9\",\"created_at\":\"2022-10-25T15:07:17.000Z\",\"public_metrics\":{\"retweet_count\":0,\"reply_count\":1,\"like_count\":0,\"quote_count\":0}},{\"author_id\":\"1334879851015270400\",\"lang\":\"en\",\"id\":\"1584923805738319878\",\"edit_history_tweet_ids\":[\"1584923805738319878\"],\"text\":\"Why is Batgirl and Nightwing in Gotham Knights caked up to hell and back \\\\uD83E\\\\uDD74\",\"created_at\":\"2022-10-25T15:04:16.000Z\",\"public_metrics\":{\"retweet_count\":0,\"reply_count\":0,\"like_count\":0,\"quote_count\":0}},{\"author_id\":\"47896661\",\"lang\":\"en\",\"id\":\"1584923191994208258\",\"edit_history_tweet_ids\":[\"1584923191994208258\"],\"text\":\"danteveli played Gotham Knights (PS5) in the last 24 hours https://t.co/tfR3bOUCdG #exophase\",\"created_at\":\"2022-10-25T15:01:50.000Z\",\"public_metrics\":{\"retweet_count\":0,\"reply_count\":0,\"like_count\":2,\"quote_count\":0}},{\"author_id\":\"159190716\",\"lang\":\"en\",\"id\":\"1584922515947896835\",\"edit_history_tweet_ids\":[\"1584922515947896835\"],\"text\":\"Review - Batman Gotham Knights: Gilded City #1 - The First Bat\\\\nhttps://t.co/ghAVKfKNRl\",\"created_at\":\"2022-10-25T14:59:08.000Z\",\"public_metrics\":{\"retweet_count\":0,\"reply_count\":0,\"like_count\":1,\"quote_count\":0}},{\"author_id\":\"3192600414\",\"lang\":\"en\",\"id\":\"1584922480082296833\",\"edit_history_tweet_ids\":[\"1584922480082296833\"],\"text\":\"The surprise ending goes against the very premise of the game. https://t.co/P60PqL8D1H\",\"created_at\":\"2022-10-25T14:59:00.000Z\",\"public_metrics\":{\"retweet_count\":0,\"reply_count\":1,\"like_count\":5,\"quote_count\":0}},{\"author_id\":\"291372589\",\"lang\":\"en\",\"id\":\"1584921994826600449\",\"edit_history_tweet_ids\":[\"1584921994826600449\"],\"text\":\"Gotham Knights - $74 Edition https://t.co/SvI1gXS5mu\\\\n#batman #gothamkights\",\"created_at\":\"2022-10-25T14:57:04.000Z\",\"public_metrics\":{\"retweet_count\":0,\"reply_count\":0,\"like_count\":0,\"quote_count\":0}},{\"author_id\":\"1219221244366786564\",\"lang\":\"en\",\"id\":\"1584921697051877380\",\"edit_history_tweet_ids\":[\"1584921697051877380\"],\"text\":\"Gotham City Street Art Locations Gotham Knights https://t.co/r8Tr1c845R #GothamKnights #GothamKnightsStreetArtlocations #GothamCity #SeansGamingVideos #Collectibles @GothamKnights #PS5Share #PS5 #Gaming #GamingCommunity #YouTubeGaming\",\"created_at\":\"2022-10-25T14:55:53.000Z\",\"public_metrics\":{\"retweet_count\":0,\"reply_count\":0,\"like_count\":0,\"quote_count\":0}},{\"author_id\":\"801868242\",\"lang\":\"en\",\"id\":\"1584921278141669381\",\"edit_history_tweet_ids\":[\"1584921278141669381\"],\"text\":\"JayTechTV4K60 played Gotham Knights (PS5) in the last 24 hours https://t.co/ZsDw26RPib #exophase\",\"created_at\":\"2022-10-25T14:54:13.000Z\",\"public_metrics\":{\"retweet_count\":0,\"reply_count\":2,\"like_count\":0,\"quote_count\":0}},{\"author_id\":\"194783765\",\"lang\":\"en\",\"id\":\"1584920945143287808\",\"edit_history_tweet_ids\":[\"1584920945143287808\"],\"text\":\"Alleef Ashaari played Gotham Knights (PS5) in the last 24 hours https://t.co/dy6FOQovxf #exophase\",\"created_at\":\"2022-10-25T14:52:54.000Z\",\"public_metrics\":{\"retweet_count\":0,\"reply_count\":0,\"like_count\":0,\"quote_count\":0}},{\"author_id\":\"981732836989394945\",\"lang\":\"en\",\"id\":\"1584920739131564032\",\"edit_history_tweet_ids\":[\"1584920739131564032\"],\"text\":\"I promise I’m not dick riding but it really didn’t take long to get Red Hood’s traversal thing in Gotham Knights lol\\\\n\\\\nI definitely think some things are being blown out of proportion…BUT it is unacceptable that it can’t even hold 30fps rn. Otherwise the game is fun af \\\\uD83E\\\\uDD37\\u200d♂️ https://t.co/QaPmZgI4gH\",\"created_at\":\"2022-10-25T14:52:05.000Z\",\"public_metrics\":{\"retweet_count\":0,\"reply_count\":1,\"like_count\":1,\"quote_count\":0}},{\"author_id\":\"900528785208078336\",\"lang\":\"en\",\"id\":\"1584920261098409985\",\"edit_history_tweet_ids\":[\"1584920261098409985\"],\"text\":\"Check out our Comic Review #Batman: #GothamKnights – Gilded City #1 from DC Comics\\\\nThe tie in comic to the Gotham Knights game\\\\nby @EvNarc &amp; @abeloverdrive \\\\n \\\\n https://t.co/5bodR1H7Bl via @YouTube\",\"created_at\":\"2022-10-25T14:50:11.000Z\",\"public_metrics\":{\"retweet_count\":1,\"reply_count\":0,\"like_count\":0,\"quote_count\":0}},{\"author_id\":\"1498609217892397057\",\"lang\":\"en\",\"id\":\"1584919867299627015\",\"edit_history_tweet_ids\":[\"1584919867299627015\"],\"text\":\"Gotham Knights guide: Best build for Batgirl https://t.co/wH9UoBLLJ2 #gaming #gamingcommunity #gamingnews\",\"created_at\":\"2022-10-25T14:48:37.000Z\",\"public_metrics\":{\"retweet_count\":0,\"reply_count\":0,\"like_count\":0,\"quote_count\":0}},{\"author_id\":\"277119288\",\"lang\":\"en\",\"id\":\"1584919764421468160\",\"edit_history_tweet_ids\":[\"1584919764421468160\"],\"text\":\"@Moro11Tv @GothamKnights Say whaaat ??\\\\n\\\\nIs it really not there in the PS5 version? - that\\'s ridiculous! \\\\uD83D\\\\uDE33\\\\n\\\\nHad the Collector\\'s Edition of \\\\\"Gotham Knights\\\\\" originally pre-ordered for the PS5, but given that i finally also found a Xbox Series X, i switched my order to that version - looks like, i made https://t.co/FtpGZXokKO\",\"created_at\":\"2022-10-25T14:48:12.000Z\",\"public_metrics\":{\"retweet_count\":0,\"reply_count\":0,\"like_count\":0,\"quote_count\":0}},{\"author_id\":\"89009739\",\"lang\":\"en\",\"id\":\"1584918447963734017\",\"edit_history_tweet_ids\":[\"1584918447963734017\"],\"text\":\"why do Red Hood walk like his holster is too tight for him in Gotham Knights? It\\'s frankly painful to watch\",\"created_at\":\"2022-10-25T14:42:59.000Z\",\"public_metrics\":{\"retweet_count\":0,\"reply_count\":0,\"like_count\":1,\"quote_count\":0}},{\"author_id\":\"28332561\",\"lang\":\"en\",\"id\":\"1584917532070363137\",\"edit_history_tweet_ids\":[\"1584917532070363137\"],\"text\":\"Gotham Knights has possibly the best Batman arc in a video game since Arkham City! Controls get a bit shitty sometimes (don’t get me started on the organ missions) but yeah can’t wait to get all the collectibles out the way and start new game + with nightwing! #GothamKnights\",\"created_at\":\"2022-10-25T14:39:20.000Z\",\"public_metrics\":{\"retweet_count\":0,\"reply_count\":0,\"like_count\":1,\"quote_count\":0}},{\"author_id\":\"1129442410323423238\",\"lang\":\"en\",\"id\":\"1584917243833589760\",\"edit_history_tweet_ids\":[\"1584917243833589760\"],\"text\":\"GOTHAM KNIGHTS PART 11 - THE VOICE VS BATGIRL / NEW SECRETS / Walkthroug... https://t.co/h5B2pLP1PZ via @YouTube\",\"created_at\":\"2022-10-25T14:38:11.000Z\",\"public_metrics\":{\"retweet_count\":0,\"reply_count\":0,\"like_count\":0,\"quote_count\":0}},{\"author_id\":\"1039590315970179074\",\"lang\":\"en\",\"id\":\"1584915836242137090\",\"edit_history_tweet_ids\":[\"1584915836242137090\"],\"text\":\"\\\\uD83E\\\\uDD87Batgirl in Gotham Knights https://t.co/XJb1Eof5no\",\"created_at\":\"2022-10-25T14:32:36.000Z\",\"public_metrics\":{\"retweet_count\":75,\"reply_count\":20,\"like_count\":655,\"quote_count\":7}},{\"author_id\":\"1328164399098433536\",\"lang\":\"en\",\"id\":\"1584915192432820224\",\"edit_history_tweet_ids\":[\"1584915192432820224\"],\"text\":\"ASSASSIN\\'S CREED MIRAGE\\\\n\\\\n\\\\uD83D\\\\uDD17: https://t.co/YOE6qJ8zn4 #AD\",\"created_at\":\"2022-10-25T14:30:02.000Z\",\"public_metrics\":{\"retweet_count\":0,\"reply_count\":0,\"like_count\":2,\"quote_count\":1}},{\"author_id\":\"1401541244589850636\",\"lang\":\"en\",\"id\":\"1584915128113405952\",\"edit_history_tweet_ids\":[\"1584915128113405952\"],\"text\":\"@JaeDze I\\'ve got Trails of Zero, Persona 5 and Nier Automata. Not to mention Pokemon coming soon on the Switch.\\\\n\\\\nThe Gotham Knights, Trails of Cold Steel 3/4, Valkyrie Profile, and now Star Ocean. With God of War and Crisis Core coming for the PS5.\\\\n\\\\nAnd let\\'s not even start on the Xbox\",\"created_at\":\"2022-10-25T14:29:47.000Z\",\"public_metrics\":{\"retweet_count\":0,\"reply_count\":1,\"like_count\":0,\"quote_count\":0}},{\"author_id\":\"3371436171\",\"lang\":\"en\",\"id\":\"1584915116369256448\",\"edit_history_tweet_ids\":[\"1584915116369256448\"],\"text\":\"watching gotham knights cutscenes solely to have an excuse to stare at batgirl’s ass for 6 hours and yet this mf plays as red hood for most of the game\",\"created_at\":\"2022-10-25T14:29:44.000Z\",\"public_metrics\":{\"retweet_count\":2,\"reply_count\":1,\"like_count\":8,\"quote_count\":0}},{\"author_id\":\"1491464240623874052\",\"lang\":\"en\",\"id\":\"1584914381380669443\",\"edit_history_tweet_ids\":[\"1584914381380669443\"],\"text\":\"RED HOOD SLAPS.!!! | Gotham Knights Pt. 2 https://t.co/omYDKhPDj9 via @YouTube Pretty great views on day one. I’ll release part 3 after we get a few more.!\",\"created_at\":\"2022-10-25T14:26:49.000Z\",\"public_metrics\":{\"retweet_count\":0,\"reply_count\":0,\"like_count\":0,\"quote_count\":0}},{\"author_id\":\"1186414685538664456\",\"lang\":\"en\",\"id\":\"1584913879376740356\",\"edit_history_tweet_ids\":[\"1584913879376740356\"],\"text\":\"Batcycle Time Trial #3\\\\n\\\\nhttps://t.co/q8l5JeWW0q\\\\n\\\\n#GothamKnights #Gotham #Knights #PC #Steam #PlayStation #PlayStation5 #PS5 #Xbox #XboxSeriesX\",\"created_at\":\"2022-10-25T14:24:49.000Z\",\"public_metrics\":{\"retweet_count\":0,\"reply_count\":0,\"like_count\":1,\"quote_count\":0}},{\"author_id\":\"1186414685538664456\",\"lang\":\"en\",\"id\":\"1584913488178184193\",\"edit_history_tweet_ids\":[\"1584913488178184193\"],\"text\":\"Batcycle Time Trial #2\\\\n\\\\nhttps://t.co/IGoYfVxCn4\\\\n\\\\n#GothamKnights #Gotham #Knights #PC #Steam #PlayStation #PlayStation5 #PS5 #Xbox #XboxSeriesX\",\"created_at\":\"2022-10-25T14:23:16.000Z\",\"public_metrics\":{\"retweet_count\":1,\"reply_count\":0,\"like_count\":0,\"quote_count\":0}},{\"author_id\":\"1186414685538664456\",\"lang\":\"en\",\"id\":\"1584913305113694210\",\"edit_history_tweet_ids\":[\"1584913305113694210\"],\"text\":\"Batcycle Time Trial #1\\\\n\\\\nhttps://t.co/GgglMa60Da\\\\n\\\\n#GothamKnights #Gotham #Knights #PC #Steam #PlayStation #PlayStation5 #PS5 #Xbox #XboxSeriesX\",\"created_at\":\"2022-10-25T14:22:32.000Z\",\"public_metrics\":{\"retweet_count\":1,\"reply_count\":0,\"like_count\":0,\"quote_count\":0}},{\"author_id\":\"1150952780305244160\",\"lang\":\"en\",\"id\":\"1584912993011245057\",\"edit_history_tweet_ids\":[\"1584912993011245057\"],\"text\":\"@REDHOOD_GK Drop the closets red hood skin that looks like this in Gotham knights \\\\uD83D\\\\uDD25\\\\uD83D\\\\uDD25\\\\uD83D\\\\uDD25 https://t.co/8pG9U6r3Ib\",\"created_at\":\"2022-10-25T14:21:18.000Z\",\"public_metrics\":{\"retweet_count\":0,\"reply_count\":1,\"like_count\":0,\"quote_count\":0}},{\"author_id\":\"3311035095\",\"lang\":\"en\",\"id\":\"1584912279518285825\",\"edit_history_tweet_ids\":[\"1584912279518285825\"],\"text\":\"While I’m on the subject of Gotham Knights actually, I saw a screenshot of Dick with a Bi flag mug, which reminded me that one my few Bat-Family hot takes is that Dick Grayson is perhaps the only straight one in that bunch lol.\",\"created_at\":\"2022-10-25T14:18:28.000Z\",\"public_metrics\":{\"retweet_count\":0,\"reply_count\":1,\"like_count\":0,\"quote_count\":0}},{\"author_id\":\"2731249520\",\"lang\":\"en\",\"id\":\"1584911818404888576\",\"edit_history_tweet_ids\":[\"1584911818404888576\"],\"text\":\"Gotham Knights Guide Details, How To Unlock, AP Cost, All Robin Skill Trees Explained! – Stars\\xa0Obituary https://t.co/uHMncmxnlZ\",\"created_at\":\"2022-10-25T14:16:38.000Z\",\"public_metrics\":{\"retweet_count\":0,\"reply_count\":0,\"like_count\":0,\"quote_count\":0}},{\"author_id\":\"968144569597681664\",\"lang\":\"en\",\"id\":\"1584911406863769600\",\"edit_history_tweet_ids\":[\"1584911406863769600\"],\"text\":\"Batman: Gotham Knights - Gilded City #1 Preview #batmangothamknights #gildedcity #batman #chipzdarsky #Amazon #DCEU #dccomics #comics #comicbooks #news #dcu #dcuuniverse #art #info #NCBD #comicbooknews #previews #reviews https://t.co/DjooGXt5h9\",\"created_at\":\"2022-10-25T14:15:00.000Z\",\"public_metrics\":{\"retweet_count\":0,\"reply_count\":0,\"like_count\":0,\"quote_count\":0}}],\"meta\":{\"newest_id\":\"1584957219828744194\",\"oldest_id\":\"1584911406863769600\",\"result_count\":100,\"next_token\":\"b26v89c19zqg8o3fpzel4w4rete97w0srzam8ji07ky2l\"}}'"
      ]
     },
     "execution_count": 265,
     "metadata": {},
     "output_type": "execute_result"
    }
   ],
   "source": [
    "next_response.text"
   ]
  },
  {
   "cell_type": "markdown",
   "id": "7f9b7672",
   "metadata": {},
   "source": [
    "<span style =\"font-family:Optima\">And now there is meta text data. And like before this data can be set into a table so its easier to read.</span>"
   ]
  },
  {
   "cell_type": "code",
   "execution_count": 266,
   "id": "549b39b6",
   "metadata": {},
   "outputs": [],
   "source": [
    "next_response_dict = json.loads(next_response.text)"
   ]
  },
  {
   "cell_type": "code",
   "execution_count": 267,
   "id": "8eb6d89b",
   "metadata": {
    "scrolled": true
   },
   "outputs": [
    {
     "data": {
      "text/plain": [
       "{'newest_id': '1584957219828744194',\n",
       " 'oldest_id': '1584911406863769600',\n",
       " 'result_count': 100,\n",
       " 'next_token': 'b26v89c19zqg8o3fpzel4w4rete97w0srzam8ji07ky2l'}"
      ]
     },
     "execution_count": 267,
     "metadata": {},
     "output_type": "execute_result"
    }
   ],
   "source": [
    "next_response_dict['meta']"
   ]
  },
  {
   "cell_type": "code",
   "execution_count": 268,
   "id": "c245230a",
   "metadata": {},
   "outputs": [],
   "source": [
    "def twt_recent_search (query, num_pages, header):\n",
    "    response_list = []\n",
    "    next_token = ''\n",
    "    for i in range(0, num_pages):\n",
    "        if i > 0:\n",
    "            this_query = query + \"&next_token={}\".format(next_token)\n",
    "        else:\n",
    "            this_query = query\n",
    "        \n",
    "        this_response = requests.get(this_query, headers = header)\n",
    "        print(this_response.status_code)\n",
    "        this_response_dict = json.loads(this_response.text)\n",
    "        response_list.append(this_response_dict)\n",
    "        next_token = this_response_dict['meta']['next_token']\n",
    "        \n",
    "    return response_list"
   ]
  },
  {
   "cell_type": "markdown",
   "id": "6a12f09f",
   "metadata": {},
   "source": [
    "<span style =\"font-family:Optima\">Like with 'data', the table process starts by making the next_response.text into a json file so it can be broken up into different categories. By examining specifically the 'meta' in the next_response_dict, I know what exactly what 'meta' is. Now I can create a for loop to prepare the combination for both the 'meta' and 'data'. </span>"
   ]
  },
  {
   "cell_type": "code",
   "execution_count": 269,
   "id": "0c9a6108",
   "metadata": {
    "scrolled": true
   },
   "outputs": [
    {
     "name": "stdout",
     "output_type": "stream",
     "text": [
      "200\n",
      "200\n",
      "200\n",
      "200\n",
      "200\n",
      "200\n",
      "200\n",
      "200\n",
      "200\n",
      "200\n",
      "200\n",
      "200\n",
      "200\n",
      "200\n",
      "200\n",
      "200\n",
      "200\n",
      "200\n",
      "200\n",
      "200\n",
      "200\n",
      "200\n",
      "200\n",
      "200\n",
      "200\n",
      "200\n",
      "200\n",
      "200\n",
      "200\n",
      "200\n"
     ]
    }
   ],
   "source": [
    "my_responses = twt_recent_search(query_url, 30, header)"
   ]
  },
  {
   "cell_type": "code",
   "execution_count": 270,
   "id": "a2fcbe91",
   "metadata": {
    "scrolled": false
   },
   "outputs": [],
   "source": [
    "results_1 = pd.DataFrame.from_records(my_responses)"
   ]
  },
  {
   "cell_type": "code",
   "execution_count": 271,
   "id": "6e47d486",
   "metadata": {},
   "outputs": [],
   "source": [
    "data_list = list(results_1['data'])"
   ]
  },
  {
   "cell_type": "code",
   "execution_count": 272,
   "id": "b0f51947",
   "metadata": {},
   "outputs": [],
   "source": [
    "data_list_of_dfs = [pd.DataFrame(x) for x in data_list]"
   ]
  },
  {
   "cell_type": "code",
   "execution_count": 276,
   "id": "2ae7b12c",
   "metadata": {
    "scrolled": false
   },
   "outputs": [],
   "source": [
    "data_df = pd.concat(data_list_of_dfs).join(public_metrics_df)"
   ]
  },
  {
   "cell_type": "markdown",
   "id": "ac461ecc",
   "metadata": {},
   "source": [
    "<span style =\"font-family:Optima\">To create the final table, more variables related to the loop need to be made. The results_1 variable creates the responses into a data frame that is part of the creation of the table. The data_list collects the 'data' category from responses. The data_list_of_dfs combines the 'data' from above, the 'meta' and the loop to create a structure of a table. And the final data_df combines everything all together to create the final table.</span>"
   ]
  },
  {
   "cell_type": "code",
   "execution_count": 345,
   "id": "545f1de2",
   "metadata": {
    "scrolled": true
   },
   "outputs": [
    {
     "data": {
      "text/html": [
       "<div>\n",
       "<style scoped>\n",
       "    .dataframe tbody tr th:only-of-type {\n",
       "        vertical-align: middle;\n",
       "    }\n",
       "\n",
       "    .dataframe tbody tr th {\n",
       "        vertical-align: top;\n",
       "    }\n",
       "\n",
       "    .dataframe thead th {\n",
       "        text-align: right;\n",
       "    }\n",
       "</style>\n",
       "<table border=\"1\" class=\"dataframe\">\n",
       "  <thead>\n",
       "    <tr style=\"text-align: right;\">\n",
       "      <th></th>\n",
       "      <th>created_at</th>\n",
       "      <th>edit_history_tweet_ids</th>\n",
       "      <th>author_id</th>\n",
       "      <th>public_metrics</th>\n",
       "      <th>text</th>\n",
       "      <th>lang</th>\n",
       "      <th>id</th>\n",
       "      <th>retweet_count</th>\n",
       "      <th>reply_count</th>\n",
       "      <th>like_count</th>\n",
       "      <th>quote_count</th>\n",
       "    </tr>\n",
       "  </thead>\n",
       "  <tbody>\n",
       "    <tr>\n",
       "      <th>0</th>\n",
       "      <td>2022-10-25T21:14:18.000Z</td>\n",
       "      <td>[1585016928795774976]</td>\n",
       "      <td>891993331391221764</td>\n",
       "      <td>{'retweet_count': 0, 'reply_count': 0, 'like_c...</td>\n",
       "      <td>@HollowPoiint when you next play Gotham Knight...</td>\n",
       "      <td>en</td>\n",
       "      <td>1585016928795774976</td>\n",
       "      <td>0.0</td>\n",
       "      <td>0.0</td>\n",
       "      <td>0.0</td>\n",
       "      <td>0.0</td>\n",
       "    </tr>\n",
       "    <tr>\n",
       "      <th>0</th>\n",
       "      <td>2022-10-25T17:17:02.000Z</td>\n",
       "      <td>[1584957219828744194]</td>\n",
       "      <td>989985687066894336</td>\n",
       "      <td>{'retweet_count': 0, 'reply_count': 1, 'like_c...</td>\n",
       "      <td>@Earth_928_2099 Gotham Knights Jason most accu...</td>\n",
       "      <td>en</td>\n",
       "      <td>1584957219828744194</td>\n",
       "      <td>0.0</td>\n",
       "      <td>0.0</td>\n",
       "      <td>0.0</td>\n",
       "      <td>0.0</td>\n",
       "    </tr>\n",
       "    <tr>\n",
       "      <th>0</th>\n",
       "      <td>2022-10-25T14:12:11.000Z</td>\n",
       "      <td>[1584910700287332354]</td>\n",
       "      <td>1511984483934916612</td>\n",
       "      <td>{'retweet_count': 0, 'reply_count': 0, 'like_c...</td>\n",
       "      <td>Gotham Knights Guide Details, How To Unlock, A...</td>\n",
       "      <td>en</td>\n",
       "      <td>1584910700287332354</td>\n",
       "      <td>0.0</td>\n",
       "      <td>0.0</td>\n",
       "      <td>0.0</td>\n",
       "      <td>0.0</td>\n",
       "    </tr>\n",
       "    <tr>\n",
       "      <th>0</th>\n",
       "      <td>2022-10-25T10:00:03.000Z</td>\n",
       "      <td>[1584847247128371206]</td>\n",
       "      <td>78829328</td>\n",
       "      <td>{'retweet_count': 0, 'reply_count': 0, 'like_c...</td>\n",
       "      <td>#PlayStation 5: \"Gotham Knights\" released with...</td>\n",
       "      <td>en</td>\n",
       "      <td>1584847247128371206</td>\n",
       "      <td>0.0</td>\n",
       "      <td>0.0</td>\n",
       "      <td>0.0</td>\n",
       "      <td>0.0</td>\n",
       "    </tr>\n",
       "    <tr>\n",
       "      <th>0</th>\n",
       "      <td>2022-10-25T03:52:25.000Z</td>\n",
       "      <td>[1584754728206057474]</td>\n",
       "      <td>1285423723139551232</td>\n",
       "      <td>{'retweet_count': 0, 'reply_count': 0, 'like_c...</td>\n",
       "      <td>Rebel Rick played Gotham Knights (PS5) in the ...</td>\n",
       "      <td>en</td>\n",
       "      <td>1584754728206057474</td>\n",
       "      <td>0.0</td>\n",
       "      <td>0.0</td>\n",
       "      <td>0.0</td>\n",
       "      <td>0.0</td>\n",
       "    </tr>\n",
       "  </tbody>\n",
       "</table>\n",
       "</div>"
      ],
      "text/plain": [
       "                 created_at edit_history_tweet_ids            author_id  \\\n",
       "0  2022-10-25T21:14:18.000Z  [1585016928795774976]   891993331391221764   \n",
       "0  2022-10-25T17:17:02.000Z  [1584957219828744194]   989985687066894336   \n",
       "0  2022-10-25T14:12:11.000Z  [1584910700287332354]  1511984483934916612   \n",
       "0  2022-10-25T10:00:03.000Z  [1584847247128371206]             78829328   \n",
       "0  2022-10-25T03:52:25.000Z  [1584754728206057474]  1285423723139551232   \n",
       "\n",
       "                                      public_metrics  \\\n",
       "0  {'retweet_count': 0, 'reply_count': 0, 'like_c...   \n",
       "0  {'retweet_count': 0, 'reply_count': 1, 'like_c...   \n",
       "0  {'retweet_count': 0, 'reply_count': 0, 'like_c...   \n",
       "0  {'retweet_count': 0, 'reply_count': 0, 'like_c...   \n",
       "0  {'retweet_count': 0, 'reply_count': 0, 'like_c...   \n",
       "\n",
       "                                                text lang  \\\n",
       "0  @HollowPoiint when you next play Gotham Knight...   en   \n",
       "0  @Earth_928_2099 Gotham Knights Jason most accu...   en   \n",
       "0  Gotham Knights Guide Details, How To Unlock, A...   en   \n",
       "0  #PlayStation 5: \"Gotham Knights\" released with...   en   \n",
       "0  Rebel Rick played Gotham Knights (PS5) in the ...   en   \n",
       "\n",
       "                    id  retweet_count  reply_count  like_count  quote_count  \n",
       "0  1585016928795774976            0.0          0.0         0.0          0.0  \n",
       "0  1584957219828744194            0.0          0.0         0.0          0.0  \n",
       "0  1584910700287332354            0.0          0.0         0.0          0.0  \n",
       "0  1584847247128371206            0.0          0.0         0.0          0.0  \n",
       "0  1584754728206057474            0.0          0.0         0.0          0.0  "
      ]
     },
     "execution_count": 345,
     "metadata": {},
     "output_type": "execute_result"
    }
   ],
   "source": [
    "data_df.head()"
   ]
  },
  {
   "cell_type": "markdown",
   "id": "0ff3372a",
   "metadata": {},
   "source": [
    "<span style =\"font-family:Optima\">The final table is now complete!</span>"
   ]
  },
  {
   "cell_type": "code",
   "execution_count": 346,
   "id": "afb5ab30",
   "metadata": {},
   "outputs": [
    {
     "data": {
      "text/plain": [
       "2978"
      ]
     },
     "execution_count": 346,
     "metadata": {},
     "output_type": "execute_result"
    }
   ],
   "source": [
    "len(data_df.index)"
   ]
  },
  {
   "cell_type": "markdown",
   "id": "33936b80",
   "metadata": {},
   "source": [
    "### <span style =\"font-family:Optima\"><font color='goldenrod'>**Conclusion**</font></span>\n",
    "<span style =\"font-family:Optima\">So, was there some hidden hype around _Gotham Knights_ in the Twitter API system  through the sub categories of public metrics? No. To say the results were underwhelming is an understatement, there was barely any retweets, replies, likes, and quotes. The majority of most categories was zero with maybe one or two likes. Why is that? Despite the game being released on the 22nd, the activity around the game on Twitter was nonexistent. Some of my theories include how the game is on PS5, a console in limited supply, people's nostalgia for the Batman Arkham games and many starting to lose interest in superhero media. Or maybe the reasons could be that I coded some of the material wrong.</span>\n",
    "\n",
    "<span style =\"font-family:Optima\">What comes to mind as mistakes in my code was the username. Despite saying how I said it would be a category of the table, it wasn't included in any table, final or test. I also think I might have coded the public metrics subcategories wrong, as while most of the results was zero, on the public metrics there would be at least be another number (a very small number but still!). All of this could be surmised to my lack of knowledge to the Twitter API system. The results could also be wrong due to the categories I was looking at to see Twitter activity. Perhaps I should have looked at the amount of tweets from a given day along with public metric categories. With these fixes and changes the it could make for a better report.</span>\n",
    "\n",
    "<span style =\"font-family:Optima\">But one question remains, were the Knights able to rise? No. They tripped and fell in the dark.</span>"
   ]
  },
  {
   "cell_type": "markdown",
   "id": "d004695d",
   "metadata": {},
   "source": [
    "### <span style =\"font-family:Optima\"><font color='goldenrod'>**Works Cited**</font></span>\n",
    "<span style =\"font-family:Optima\">Here's a few sources I looked at to help with the report.</span>\n",
    "\n",
    "<span style =\"font-family:Optima\"><span style =\"font-family:Optima\">https://developer.twitter.com/en/docs/twitter-api/v1/tweets/search/api-reference/get-search-tweets</span>\n",
    "\n",
    "<span style =\"font-family:Optima\">https://developer.twitter.com/en/docs/twitter-api/v1/tweets/search/api-reference/get-search-tweets</span>\n",
    "\n",
    "<span style =\"font-family:Optima\">https://developer.twitter.com/en/docs/twitter-api/fields</span>\n",
    "\n",
    "<span style =\"font-family:Optima\">https://www.gothamknightsgame.com/en-us</span>\n"
   ]
  }
 ],
 "metadata": {
  "kernelspec": {
   "display_name": "Python 3 (ipykernel)",
   "language": "python",
   "name": "python3"
  },
  "language_info": {
   "codemirror_mode": {
    "name": "ipython",
    "version": 3
   },
   "file_extension": ".py",
   "mimetype": "text/x-python",
   "name": "python",
   "nbconvert_exporter": "python",
   "pygments_lexer": "ipython3",
   "version": "3.10.4"
  }
 },
 "nbformat": 4,
 "nbformat_minor": 5
}
